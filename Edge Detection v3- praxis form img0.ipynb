{
 "cells": [
  {
   "cell_type": "code",
   "execution_count": 1,
   "metadata": {
    "ExecuteTime": {
     "end_time": "2020-03-03T15:16:30.467915Z",
     "start_time": "2020-03-03T15:16:30.201698Z"
    }
   },
   "outputs": [],
   "source": [
    "import time\n",
    "import statistics\n",
    "import cv2\n",
    "import numpy as np\n",
    "import matplotlib.pyplot as plt\n",
    "%matplotlib inline"
   ]
  },
  {
   "cell_type": "code",
   "execution_count": 2,
   "metadata": {
    "ExecuteTime": {
     "end_time": "2020-03-03T15:16:30.842210Z",
     "start_time": "2020-03-03T15:16:30.826551Z"
    }
   },
   "outputs": [],
   "source": [
    "# #Load the image in black and white (0 - b/w, 1 - color).\n",
    "# img = cv2.imread(r'C:\\Users\\Rahul\\Desktop\\Capstone\\form\\img0.jpg', 0)\n",
    "\n",
    "# #Invert the image to be white on black for compatibility with findContours function.\n",
    "# imgray = 255 - img\n",
    "\n",
    "# #rects1\n",
    "# # imgray1 = cv2.blur(imgray,(3,10))\n",
    "# # imgray1 = cv2.blur(imgray1,(10,3))\n",
    "# # thresh1 = cv2.adaptiveThreshold(imgray1, 255, cv2.ADAPTIVE_THRESH_MEAN_C,cv2.THRESH_BINARY,15,2)\n",
    "# # #Find all the contours in thresh. In your case the 3 and the additional strike\n",
    "# # contours, hierarchy = cv2.findContours(thresh1, cv2.RETR_LIST, cv2.CHAIN_APPROX_SIMPLE)\n",
    "# # rects1 = [cv2.boundingRect(cnt) for cnt in contours]\n",
    "\n",
    "\n",
    "# # rects2 imp\n",
    "# kernel = np.ones((2,5),np.uint8)\n",
    "# imgray2 = cv2.dilate(imgray,kernel,iterations = 1)\n",
    "# kernel = np.ones((5,2),np.uint8)\n",
    "# imgray2 = cv2.dilate(imgray2,kernel,iterations = 1)\n",
    "# thresh2 = cv2.adaptiveThreshold(imgray2, 255, cv2.ADAPTIVE_THRESH_MEAN_C,cv2.THRESH_BINARY,15,2)\n",
    "# #Find all the contours in thresh. In your case the 3 and the additional strike\n",
    "# contours, hierarchy = cv2.findContours(thresh2, cv2.RETR_LIST, cv2.CHAIN_APPROX_SIMPLE)\n",
    "# rects2 = [cv2.boundingRect(cnt) for cnt in contours]\n",
    "\n",
    "# # #rects3 imp\n",
    "# # imgray3 = cv2.blur(imgray,(10,3))\n",
    "# # thresh3 = cv2.adaptiveThreshold(imgray3, 255, cv2.ADAPTIVE_THRESH_MEAN_C,cv2.THRESH_BINARY,15,2)\n",
    "# # #Find all the contours in thresh. In your case the 3 and the additional strike\n",
    "# # contours, hierarchy = cv2.findContours(thresh3, cv2.RETR_LIST, cv2.CHAIN_APPROX_SIMPLE)\n",
    "# # rects3 = [cv2.boundingRect(cnt) for cnt in contours]\n",
    "\n",
    "\n",
    "# # rects4 imp\n",
    "# imgray4 = cv2.blur(imgray,(3,10))\n",
    "# thresh4 = cv2.adaptiveThreshold(imgray4, 255, cv2.ADAPTIVE_THRESH_MEAN_C,cv2.THRESH_BINARY,15,2)\n",
    "# #Find all the contours in thresh. In your case the 3 and the additional strike\n",
    "# contours, hierarchy = cv2.findContours(thresh4, cv2.RETR_LIST, cv2.CHAIN_APPROX_SIMPLE)\n",
    "# rects4 = [cv2.boundingRect(cnt) for cnt in contours]\n",
    "\n",
    "\n",
    "# #rects5\n",
    "# #kernel = np.ones((2,7),np.uint8)\n",
    "# #imgray5 = cv2.dilate(imgray,kernel,iterations = 1)\n",
    "# kernel = np.ones((2,7),np.uint8)\n",
    "# imgray5 = cv2.dilate(imgray,kernel,iterations = 1)\n",
    "# thresh5 = cv2.adaptiveThreshold(imgray5, 255, cv2.ADAPTIVE_THRESH_MEAN_C,cv2.THRESH_BINARY,15,2)\n",
    "# #Find all the contours in thresh. In your case the 3 and the additional strike\n",
    "# contours, hierarchy = cv2.findContours(thresh5, cv2.RETR_LIST, cv2.CHAIN_APPROX_SIMPLE)\n",
    "# rects5 = [cv2.boundingRect(cnt) for cnt in contours]\n",
    "\n",
    "\n",
    "# # #rects6\n",
    "# # kernel = np.ones((2,30),np.uint8)\n",
    "# # imgray6 = cv2.dilate(imgray,kernel,iterations = 1)\n",
    "# # kernel = np.ones((30,2),np.uint8)\n",
    "# # imgray6 = cv2.dilate(imgray6,kernel,iterations = 1)\n",
    "# # thresh6 = cv2.adaptiveThreshold(imgray6, 255, cv2.ADAPTIVE_THRESH_MEAN_C,cv2.THRESH_BINARY,15,2)\n",
    "# # #Find all the contours in thresh. In your case the 3 and the additional strike\n",
    "# # contours, hierarchy = cv2.findContours(thresh6, cv2.RETR_LIST, cv2.CHAIN_APPROX_SIMPLE)\n",
    "# # rects6 = [cv2.boundingRect(cnt) for cnt in contours]\n",
    "\n",
    "\n",
    "# #thresh = cv2.adaptiveThreshold(imgray, 255, cv2.ADAPTIVE_THRESH_GAUSSIAN_C,cv2.THRESH_BINARY,21,2)"
   ]
  },
  {
   "cell_type": "code",
   "execution_count": 3,
   "metadata": {
    "ExecuteTime": {
     "end_time": "2020-03-03T15:16:31.545391Z",
     "start_time": "2020-03-03T15:16:31.452030Z"
    }
   },
   "outputs": [],
   "source": [
    "#Load the image in black and white (0 - b/w, 1 - color).\n",
    "img = cv2.imread(r'C:\\Users\\Rahul\\Desktop\\Capstone\\form\\img0.jpg', 0)\n",
    "\n",
    "#Invert the image to be white on black for compatibility with findContours function.\n",
    "imgray = 255 - img\n",
    "\n",
    "# rects1 imp\n",
    "kernel = np.ones((2,5),np.uint8)\n",
    "imgray1 = cv2.dilate(imgray,kernel,iterations = 1)\n",
    "kernel = np.ones((5,2),np.uint8)\n",
    "imgray1 = cv2.dilate(imgray1,kernel,iterations = 1)\n",
    "thresh1 = cv2.adaptiveThreshold(imgray1, 255, cv2.ADAPTIVE_THRESH_MEAN_C,cv2.THRESH_BINARY,15,2)\n",
    "#Find all the contours in thresh. In your case the 3 and the additional strike\n",
    "contours, hierarchy = cv2.findContours(thresh1, cv2.RETR_LIST, cv2.CHAIN_APPROX_SIMPLE)\n",
    "rects1 = [cv2.boundingRect(cnt) for cnt in contours]\n",
    "\n",
    "\n",
    "# rects2 imp\n",
    "imgray2 = cv2.blur(imgray,(10,3))\n",
    "thresh2 = cv2.adaptiveThreshold(imgray2, 255, cv2.ADAPTIVE_THRESH_MEAN_C,cv2.THRESH_BINARY,15,2)\n",
    "#Find all the contours in thresh. In your case the 3 and the additional strike\n",
    "contours, hierarchy = cv2.findContours(thresh2, cv2.RETR_LIST, cv2.CHAIN_APPROX_SIMPLE)\n",
    "rects2 = [cv2.boundingRect(cnt) for cnt in contours]\n",
    "\n",
    "\n",
    "# rects3 imp\n",
    "imgray3 = cv2.blur(imgray,(3,10))\n",
    "thresh3 = cv2.adaptiveThreshold(imgray3, 255, cv2.ADAPTIVE_THRESH_MEAN_C,cv2.THRESH_BINARY,15,2)\n",
    "#Find all the contours in thresh. In your case the 3 and the additional strike\n",
    "contours, hierarchy = cv2.findContours(thresh3, cv2.RETR_LIST, cv2.CHAIN_APPROX_SIMPLE)\n",
    "rects3 = [cv2.boundingRect(cnt) for cnt in contours]\n",
    "\n",
    "\n",
    "#rects4 imp\n",
    "kernel = np.ones((2,7),np.uint8)\n",
    "imgray4 = cv2.dilate(imgray,kernel,iterations = 1)\n",
    "thresh4 = cv2.adaptiveThreshold(imgray4, 255, cv2.ADAPTIVE_THRESH_MEAN_C,cv2.THRESH_BINARY,15,2)\n",
    "#Find all the contours in thresh. In your case the 3 and the additional strike\n",
    "contours, hierarchy = cv2.findContours(thresh4, cv2.RETR_LIST, cv2.CHAIN_APPROX_SIMPLE)\n",
    "rects4 = [cv2.boundingRect(cnt) for cnt in contours]\n",
    "\n",
    "\n",
    "#rects5 imp\n",
    "kernel = np.ones((2,7),np.uint8)\n",
    "imgray5 = cv2.dilate(imgray,kernel,iterations = 1)\n",
    "thresh5 = cv2.adaptiveThreshold(imgray5, 255, cv2.ADAPTIVE_THRESH_MEAN_C,cv2.THRESH_BINARY,15,2)\n",
    "#Find all the contours in thresh. In your case the 3 and the additional strike\n",
    "contours, hierarchy = cv2.findContours(thresh5, cv2.RETR_LIST, cv2.CHAIN_APPROX_SIMPLE)\n",
    "rects5 = [cv2.boundingRect(cnt) for cnt in contours]"
   ]
  },
  {
   "cell_type": "code",
   "execution_count": 5,
   "metadata": {
    "ExecuteTime": {
     "end_time": "2020-03-03T15:16:43.023990Z",
     "start_time": "2020-03-03T15:16:42.992747Z"
    }
   },
   "outputs": [
    {
     "data": {
      "text/plain": [
       "138"
      ]
     },
     "execution_count": 5,
     "metadata": {},
     "output_type": "execute_result"
    }
   ],
   "source": [
    "rects=[]\n",
    "for i in rects1:\n",
    "    if (i[2]>40 and i[2]<60 and i[3]>40 and i[3]<60 and i not in rects):\n",
    "        rects.append(i)\n",
    "\n",
    "for i in rects2:\n",
    "    if (i[2]>40 and i[2]<60 and i[3]>40 and i[3]<60 and i not in rects):\n",
    "        rects.append(i)\n",
    "        \n",
    "for i in rects3:\n",
    "    if (i[2]>40 and i[2]<60 and i[3]>40 and i[3]<60 and i not in rects):\n",
    "        rects.append(i)\n",
    "\n",
    "for i in rects4:\n",
    "    if (i[2]>40 and i[2]<60 and i[3]>40 and i[3]<60 and i not in rects):\n",
    "        rects.append(i)\n",
    "\n",
    "for i in rects5:\n",
    "    if (i[2]>40 and i[2]<60 and i[3]>40 and i[3]<60 and i not in rects):\n",
    "        rects.append(i)\n",
    "        \n",
    "\n",
    "len(rects)"
   ]
  },
  {
   "cell_type": "code",
   "execution_count": 11,
   "metadata": {
    "ExecuteTime": {
     "end_time": "2020-03-03T15:17:31.350615Z",
     "start_time": "2020-03-03T15:17:31.334999Z"
    }
   },
   "outputs": [
    {
     "data": {
      "text/plain": [
       "56"
      ]
     },
     "execution_count": 11,
     "metadata": {},
     "output_type": "execute_result"
    }
   ],
   "source": [
    "rects_final=rects.copy()\n",
    "for i in range(0,len(rects)-1):\n",
    "    try:\n",
    "        for j in range(i+1,len(rects)):\n",
    "            if (abs(rects[i][0] - rects[j][0]) < 10 and abs(rects[i][1] - rects[j][1]) < 10):\n",
    "                if (rects[i][2]  < rects[j][2] and rects[i][3] < rects[j][3]):\n",
    "                    rects_final.remove(rects[j])\n",
    "                else:\n",
    "                    rects_final.remove(rects[i])\n",
    "    except:\n",
    "        continue\n",
    "len(rects_final)"
   ]
  },
  {
   "cell_type": "code",
   "execution_count": 39,
   "metadata": {
    "ExecuteTime": {
     "end_time": "2020-03-03T15:57:22.773621Z",
     "start_time": "2020-03-03T15:57:22.742378Z"
    }
   },
   "outputs": [
    {
     "data": {
      "text/plain": [
       "56"
      ]
     },
     "execution_count": 39,
     "metadata": {},
     "output_type": "execute_result"
    }
   ],
   "source": [
    "rects_final=rects.copy()\n",
    "for i in range(0,len(rects)-1):\n",
    "    try:\n",
    "        for j in range(i+1,len(rects)):\n",
    "            if (abs(rects[i][0] - rects[j][0]) < 10 and abs(rects[i][1] - rects[j][1]) < 10):\n",
    "                try:\n",
    "                    index1=rects_final.index(rects[i])\n",
    "                except:\n",
    "                    index1=-1\n",
    "    \n",
    "                if (index1!=-1):\n",
    "                    if (rects[i][0]  > rects[j][0]):\n",
    "                        a=rects[i][0]\n",
    "                    else:\n",
    "                        a=rects[j][0]\n",
    "\n",
    "                    if (rects[i][1]  > rects[j][1]):\n",
    "                        b=rects[i][1]\n",
    "                    else:\n",
    "                        b=rects[j][1]\n",
    "\n",
    "                    if (rects[i][2]  > rects[j][2]):\n",
    "                        c=rects[i][2]\n",
    "                    else:\n",
    "                        c=rects[j][2]\n",
    "\n",
    "                    if (rects[i][3]  > rects[j][3]):\n",
    "                        d=rects[i][3]\n",
    "                    else:\n",
    "                        d=rects[j][3]\n",
    "                rects_final[i]=(a,b,c,d)\n",
    "                rects_final.remove(rects[j])\n",
    "    except:\n",
    "        continue\n",
    "len(rects_final)"
   ]
  },
  {
   "cell_type": "code",
   "execution_count": 40,
   "metadata": {
    "ExecuteTime": {
     "end_time": "2020-03-03T15:57:24.514218Z",
     "start_time": "2020-03-03T15:57:24.498557Z"
    }
   },
   "outputs": [
    {
     "name": "stdout",
     "output_type": "stream",
     "text": [
      "267\n",
      "121\n",
      "1919\n",
      "311\n"
     ]
    }
   ],
   "source": [
    "rects=rects_final.copy()\n",
    "#Calculate the combined bounding rectangle points.\n",
    "top_x = min([x for (x, y, w, h) in rects])\n",
    "top_y = min([y for (x, y, w, h) in rects])\n",
    "bottom_x = max([x+w for (x, y, w, h) in rects])\n",
    "bottom_y = max([y+h for (x, y, w, h) in rects])\n",
    "print(top_x)\n",
    "print(top_y)\n",
    "print(bottom_x)\n",
    "print(bottom_y)"
   ]
  },
  {
   "cell_type": "code",
   "execution_count": 41,
   "metadata": {
    "ExecuteTime": {
     "end_time": "2020-03-03T15:57:26.269748Z",
     "start_time": "2020-03-03T15:57:26.254069Z"
    }
   },
   "outputs": [
    {
     "name": "stdout",
     "output_type": "stream",
     "text": [
      "[50]\n",
      "[51]\n"
     ]
    },
    {
     "data": {
      "text/plain": [
       "3"
      ]
     },
     "execution_count": 41,
     "metadata": {},
     "output_type": "execute_result"
    }
   ],
   "source": [
    "from scipy.stats import mode\n",
    "h_mode = mode([h for (x, y, w, h) in rects])[0]\n",
    "w_mode = mode([w for (x, y, w, h) in rects])[0]\n",
    "print(h_mode)\n",
    "print(w_mode)\n",
    "n=int(((bottom_y-top_y)/h_mode))\n",
    "n"
   ]
  },
  {
   "cell_type": "code",
   "execution_count": 42,
   "metadata": {
    "ExecuteTime": {
     "end_time": "2020-03-03T15:57:27.113239Z",
     "start_time": "2020-03-03T15:57:27.082651Z"
    }
   },
   "outputs": [
    {
     "data": {
      "text/plain": [
       "[]"
      ]
     },
     "execution_count": 42,
     "metadata": {},
     "output_type": "execute_result"
    }
   ],
   "source": [
    "import operator\n",
    "temp=[]\n",
    "b = [[] for i in range(0, n+3)]\n",
    "for j in range (1,n+3):\n",
    "    for i in rects:\n",
    "        x=i[0]\n",
    "        y=i[1]\n",
    "        w=i[2]\n",
    "        h=i[3]\n",
    "        if ((y > bottom_y-h_mode*j-h_mode/2) and (i not in temp)):\n",
    "            b[j].append(i)\n",
    "            temp.append(i)\n",
    "   # b[j]=sorted(b[j],key=operator.itemgetter(0,1))\n",
    "        b[j]=sorted(b[j],key=lambda x:(-x[0]))\n",
    "b.pop(0)"
   ]
  },
  {
   "cell_type": "code",
   "execution_count": 43,
   "metadata": {
    "ExecuteTime": {
     "end_time": "2020-03-03T15:57:28.999606Z",
     "start_time": "2020-03-03T15:57:28.968957Z"
    }
   },
   "outputs": [],
   "source": [
    "# print(len(b))\n",
    "# b"
   ]
  },
  {
   "cell_type": "code",
   "execution_count": 46,
   "metadata": {
    "ExecuteTime": {
     "end_time": "2020-03-03T15:57:52.965580Z",
     "start_time": "2020-03-03T15:57:51.272738Z"
    }
   },
   "outputs": [],
   "source": [
    "count=0\n",
    "for i in b:\n",
    "    len1=len(i)\n",
    "    for j in i:\n",
    "        try:\n",
    "            x=j[0]\n",
    "            y=j[1]\n",
    "            w=j[2]\n",
    "            h=j[3]\n",
    "            #if ((w>40 and w<70) and (h>40 and h <70)):\n",
    "            cv2.imwrite(r\"C:\\Users\\Rahul\\Desktop\\Capstone\\form\\img0\\img\"+str(count)+\".jpg\",img[y:y+h,x:x+w])\n",
    "            time.sleep(0.01)\n",
    "            count+=1\n",
    "        except:\n",
    "            continue"
   ]
  },
  {
   "cell_type": "code",
   "execution_count": null,
   "metadata": {
    "ExecuteTime": {
     "end_time": "2020-02-07T07:06:41.179920Z",
     "start_time": "2020-02-07T07:06:14.284449Z"
    }
   },
   "outputs": [],
   "source": [
    "cv2.imshow(\"sub\",img)\n",
    "cv2.waitKey(0)\n",
    "cv2.destroyAllWindows()\n",
    "\n",
    "\n",
    "# cv2.imshow(\"sub\",imgray[752:752+36,1551:1551+41])\n",
    "# cv2.waitKey(0)\n",
    "# cv2.destroyAllWindows()"
   ]
  }
 ],
 "metadata": {
  "kernelspec": {
   "display_name": "Python 3",
   "language": "python",
   "name": "python3"
  },
  "language_info": {
   "codemirror_mode": {
    "name": "ipython",
    "version": 3
   },
   "file_extension": ".py",
   "mimetype": "text/x-python",
   "name": "python",
   "nbconvert_exporter": "python",
   "pygments_lexer": "ipython3",
   "version": "3.7.4"
  },
  "varInspector": {
   "cols": {
    "lenName": 16,
    "lenType": 16,
    "lenVar": 40
   },
   "kernels_config": {
    "python": {
     "delete_cmd_postfix": "",
     "delete_cmd_prefix": "del ",
     "library": "var_list.py",
     "varRefreshCmd": "print(var_dic_list())"
    },
    "r": {
     "delete_cmd_postfix": ") ",
     "delete_cmd_prefix": "rm(",
     "library": "var_list.r",
     "varRefreshCmd": "cat(var_dic_list()) "
    }
   },
   "types_to_exclude": [
    "module",
    "function",
    "builtin_function_or_method",
    "instance",
    "_Feature"
   ],
   "window_display": false
  }
 },
 "nbformat": 4,
 "nbformat_minor": 2
}
