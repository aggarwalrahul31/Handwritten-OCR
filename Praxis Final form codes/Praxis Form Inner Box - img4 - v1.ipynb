{
 "cells": [
  {
   "cell_type": "code",
   "execution_count": 1,
   "metadata": {
    "ExecuteTime": {
     "end_time": "2020-03-06T10:38:08.936973Z",
     "start_time": "2020-03-06T10:38:06.208322Z"
    }
   },
   "outputs": [],
   "source": [
    "import time\n",
    "import statistics\n",
    "import cv2\n",
    "import numpy as np\n",
    "import matplotlib.pyplot as plt\n",
    "%matplotlib inline"
   ]
  },
  {
   "cell_type": "code",
   "execution_count": 2,
   "metadata": {
    "ExecuteTime": {
     "end_time": "2020-03-06T10:38:11.890336Z",
     "start_time": "2020-03-06T10:38:11.402178Z"
    }
   },
   "outputs": [],
   "source": [
    "#Load the image in black and white (0 - b/w, 1 - color).\n",
    "img = cv2.imread(r'C:\\Users\\Rahul\\Desktop\\Capstone\\form\\img3.jpg', 0)\n",
    "\n",
    "#Invert the image to be white on black for compatibility with findContours function.\n",
    "imgray = 255 - img\n",
    "\n",
    "# rects1 imp\n",
    "kernel = np.ones((2,5),np.uint8)\n",
    "imgray1 = cv2.dilate(imgray,kernel,iterations = 1)\n",
    "kernel = np.ones((5,2),np.uint8)\n",
    "imgray1 = cv2.dilate(imgray1,kernel,iterations = 1)\n",
    "thresh1 = cv2.adaptiveThreshold(imgray1, 255, cv2.ADAPTIVE_THRESH_MEAN_C,cv2.THRESH_BINARY,15,2)\n",
    "#Find all the contours in thresh. \n",
    "contours, hierarchy = cv2.findContours(thresh1, cv2.RETR_LIST, cv2.CHAIN_APPROX_SIMPLE)\n",
    "rects1 = [cv2.boundingRect(cnt) for cnt in contours]\n",
    "\n",
    "\n",
    "# rects2 imp\n",
    "imgray2 = cv2.blur(imgray,(10,3))\n",
    "thresh2 = cv2.adaptiveThreshold(imgray2, 255, cv2.ADAPTIVE_THRESH_MEAN_C,cv2.THRESH_BINARY,15,2)\n",
    "#Find all the contours in thresh. \n",
    "contours, hierarchy = cv2.findContours(thresh2, cv2.RETR_LIST, cv2.CHAIN_APPROX_SIMPLE)\n",
    "rects2 = [cv2.boundingRect(cnt) for cnt in contours]\n",
    "\n",
    "\n",
    "# rects3 imp\n",
    "imgray3 = cv2.blur(imgray,(3,10))\n",
    "thresh3 = cv2.adaptiveThreshold(imgray3, 255, cv2.ADAPTIVE_THRESH_MEAN_C,cv2.THRESH_BINARY,15,2)\n",
    "#Find all the contours in thresh.\n",
    "contours, hierarchy = cv2.findContours(thresh3, cv2.RETR_LIST, cv2.CHAIN_APPROX_SIMPLE)\n",
    "rects3 = [cv2.boundingRect(cnt) for cnt in contours]\n",
    "\n",
    "\n",
    "#rects4 imp\n",
    "kernel = np.ones((2,7),np.uint8)\n",
    "imgray4 = cv2.dilate(imgray,kernel,iterations = 1)\n",
    "thresh4 = cv2.adaptiveThreshold(imgray4, 255, cv2.ADAPTIVE_THRESH_MEAN_C,cv2.THRESH_BINARY,15,2)\n",
    "#Find all the contours in thresh. \n",
    "contours, hierarchy = cv2.findContours(thresh4, cv2.RETR_LIST, cv2.CHAIN_APPROX_SIMPLE)\n",
    "rects4 = [cv2.boundingRect(cnt) for cnt in contours]\n",
    "\n",
    "\n",
    "#rects5 imp\n",
    "kernel = np.ones((2,7),np.uint8)\n",
    "imgray5 = cv2.dilate(imgray,kernel,iterations = 1)\n",
    "thresh5 = cv2.adaptiveThreshold(imgray5, 255, cv2.ADAPTIVE_THRESH_MEAN_C,cv2.THRESH_BINARY,15,2)\n",
    "#Find all the contours in thresh. \n",
    "contours, hierarchy = cv2.findContours(thresh5, cv2.RETR_LIST, cv2.CHAIN_APPROX_SIMPLE)\n",
    "rects5 = [cv2.boundingRect(cnt) for cnt in contours]"
   ]
  },
  {
   "cell_type": "code",
   "execution_count": 3,
   "metadata": {
    "ExecuteTime": {
     "end_time": "2020-03-06T10:38:13.579761Z",
     "start_time": "2020-03-06T10:38:13.501099Z"
    }
   },
   "outputs": [
    {
     "data": {
      "text/plain": [
       "666"
      ]
     },
     "execution_count": 3,
     "metadata": {},
     "output_type": "execute_result"
    }
   ],
   "source": [
    "rects=[]\n",
    "for i in rects1:\n",
    "    if (i[2]>40 and i[2]<60 and i[3]>40 and i[3]<60 and i not in rects):\n",
    "        rects.append(i)\n",
    "\n",
    "for i in rects2:\n",
    "    if (i[2]>40 and i[2]<60 and i[3]>40 and i[3]<60 and i not in rects):\n",
    "        rects.append(i)\n",
    "        \n",
    "for i in rects3:\n",
    "    if (i[2]>40 and i[2]<60 and i[3]>40 and i[3]<60 and i not in rects):\n",
    "        rects.append(i)\n",
    "\n",
    "for i in rects4:\n",
    "    if (i[2]>40 and i[2]<60 and i[3]>40 and i[3]<60 and i not in rects):\n",
    "        rects.append(i)\n",
    "\n",
    "for i in rects5:\n",
    "    if (i[2]>40 and i[2]<60 and i[3]>40 and i[3]<60 and i not in rects):\n",
    "        rects.append(i)\n",
    "        \n",
    "\n",
    "len(rects)"
   ]
  },
  {
   "cell_type": "code",
   "execution_count": 4,
   "metadata": {
    "ExecuteTime": {
     "end_time": "2020-03-06T10:38:16.116058Z",
     "start_time": "2020-03-06T10:38:15.868387Z"
    }
   },
   "outputs": [
    {
     "data": {
      "text/plain": [
       "239"
      ]
     },
     "execution_count": 4,
     "metadata": {},
     "output_type": "execute_result"
    }
   ],
   "source": [
    "rects_final=rects.copy()\n",
    "for i in range(0,len(rects)-1):\n",
    "    try:\n",
    "        for j in range(i+1,len(rects)):\n",
    "            if (abs(rects[i][0] - rects[j][0]) < 10 and abs(rects[i][1] - rects[j][1]) < 10):\n",
    "                if (rects[i][2]  < rects[j][2] and rects[i][3] < rects[j][3]):\n",
    "                    rects_final.remove(rects[j])\n",
    "                else:\n",
    "                    rects_final.remove(rects[i])\n",
    "    except:\n",
    "        continue\n",
    "len(rects_final)"
   ]
  },
  {
   "cell_type": "code",
   "execution_count": 5,
   "metadata": {
    "ExecuteTime": {
     "end_time": "2020-03-06T10:38:18.508090Z",
     "start_time": "2020-03-06T10:38:18.477015Z"
    }
   },
   "outputs": [
    {
     "name": "stdout",
     "output_type": "stream",
     "text": [
      "61\n",
      "124\n",
      "1913\n",
      "659\n"
     ]
    }
   ],
   "source": [
    "rects=rects_final.copy()\n",
    "#Calculate the combined bounding rectangle points.\n",
    "top_x = min([x for (x, y, w, h) in rects])\n",
    "top_y = min([y for (x, y, w, h) in rects])\n",
    "bottom_x = max([x+w for (x, y, w, h) in rects])\n",
    "bottom_y = max([y+h for (x, y, w, h) in rects])\n",
    "print(top_x)\n",
    "print(top_y)\n",
    "print(bottom_x)\n",
    "print(bottom_y)"
   ]
  },
  {
   "cell_type": "code",
   "execution_count": 6,
   "metadata": {
    "ExecuteTime": {
     "end_time": "2020-03-06T10:38:20.441145Z",
     "start_time": "2020-03-06T10:38:19.808537Z"
    }
   },
   "outputs": [
    {
     "name": "stdout",
     "output_type": "stream",
     "text": [
      "[45]\n",
      "[47]\n"
     ]
    },
    {
     "data": {
      "text/plain": [
       "11"
      ]
     },
     "execution_count": 6,
     "metadata": {},
     "output_type": "execute_result"
    }
   ],
   "source": [
    "from scipy.stats import mode\n",
    "h_mode = mode([h for (x, y, w, h) in rects])[0]\n",
    "w_mode = mode([w for (x, y, w, h) in rects])[0]\n",
    "print(h_mode)\n",
    "print(w_mode)\n",
    "n=int(((bottom_y-top_y)/h_mode))\n",
    "n"
   ]
  },
  {
   "cell_type": "code",
   "execution_count": 7,
   "metadata": {
    "ExecuteTime": {
     "end_time": "2020-03-06T10:38:22.669072Z",
     "start_time": "2020-03-06T10:38:22.568826Z"
    }
   },
   "outputs": [
    {
     "data": {
      "text/plain": [
       "[]"
      ]
     },
     "execution_count": 7,
     "metadata": {},
     "output_type": "execute_result"
    }
   ],
   "source": [
    "import operator\n",
    "temp=[]\n",
    "b = [[] for i in range(0, n+3)]\n",
    "for j in range (1,n+3):\n",
    "    for i in rects:\n",
    "        x=i[0]\n",
    "        y=i[1]\n",
    "        w=i[2]\n",
    "        h=i[3]\n",
    "        if ((y > bottom_y-h_mode*j-h_mode/2) and (i not in temp)):\n",
    "            b[j].append(i)\n",
    "            temp.append(i)\n",
    "   # b[j]=sorted(b[j],key=operator.itemgetter(0,1))\n",
    "        b[j]=sorted(b[j],key=lambda x:(-x[0]))\n",
    "b.pop(0)"
   ]
  },
  {
   "cell_type": "code",
   "execution_count": 8,
   "metadata": {
    "ExecuteTime": {
     "end_time": "2020-03-06T10:38:23.987648Z",
     "start_time": "2020-03-06T10:38:23.918590Z"
    }
   },
   "outputs": [
    {
     "name": "stdout",
     "output_type": "stream",
     "text": [
      "13\n"
     ]
    },
    {
     "data": {
      "text/plain": [
       "[[(540, 610, 47, 47),\n",
       "  (486, 610, 48, 47),\n",
       "  (432, 611, 48, 46),\n",
       "  (380, 612, 47, 44),\n",
       "  (328, 613, 47, 43),\n",
       "  (276, 612, 45, 47)],\n",
       " [],\n",
       " [(1865, 531, 48, 44),\n",
       "  (1811, 531, 48, 44),\n",
       "  (1758, 532, 48, 44),\n",
       "  (1706, 532, 47, 44),\n",
       "  (1652, 532, 48, 45),\n",
       "  (1598, 533, 48, 45),\n",
       "  (1545, 533, 47, 45),\n",
       "  (1491, 534, 47, 44),\n",
       "  (1437, 534, 48, 44),\n",
       "  (1381, 535, 49, 45),\n",
       "  (1328, 536, 47, 44),\n",
       "  (1274, 536, 48, 44),\n",
       "  (1219, 533, 51, 49),\n",
       "  (1168, 537, 47, 45),\n",
       "  (1117, 537, 45, 45),\n",
       "  (1065, 538, 46, 45),\n",
       "  (1011, 534, 50, 52),\n",
       "  (962, 539, 45, 45),\n",
       "  (910, 539, 46, 45),\n",
       "  (858, 540, 46, 45),\n",
       "  (806, 542, 46, 41),\n",
       "  (753, 543, 47, 41),\n",
       "  (700, 542, 46, 44),\n",
       "  (647, 542, 46, 45),\n",
       "  (593, 542, 47, 45),\n",
       "  (540, 542, 48, 45),\n",
       "  (486, 544, 48, 41),\n",
       "  (432, 542, 47, 45),\n",
       "  (379, 542, 47, 46),\n",
       "  (327, 542, 46, 46),\n",
       "  (273, 541, 50, 46)],\n",
       " [(1863, 466, 50, 41),\n",
       "  (1810, 465, 48, 44),\n",
       "  (1757, 465, 47, 44),\n",
       "  (1705, 465, 46, 45),\n",
       "  (1651, 465, 47, 45),\n",
       "  (1597, 466, 48, 44),\n",
       "  (1544, 466, 47, 45),\n",
       "  (1490, 467, 47, 44),\n",
       "  (1435, 468, 49, 44),\n",
       "  (1381, 470, 49, 41),\n",
       "  (1327, 468, 47, 45),\n",
       "  (1274, 469, 47, 44),\n",
       "  (1221, 470, 46, 44),\n",
       "  (1166, 468, 50, 51),\n",
       "  (1117, 471, 45, 45),\n",
       "  (1063, 469, 49, 49),\n",
       "  (1013, 472, 45, 44),\n",
       "  (962, 472, 45, 45),\n",
       "  (910, 475, 46, 41),\n",
       "  (858, 473, 46, 45),\n",
       "  (806, 476, 46, 41),\n",
       "  (753, 476, 48, 41),\n",
       "  (700, 474, 46, 45),\n",
       "  (646, 474, 47, 45),\n",
       "  (593, 474, 47, 45),\n",
       "  (539, 475, 48, 44),\n",
       "  (486, 475, 47, 45),\n",
       "  (432, 475, 47, 45),\n",
       "  (379, 474, 47, 46),\n",
       "  (326, 476, 48, 43),\n",
       "  (275, 476, 46, 43)],\n",
       " [],\n",
       " [(1861, 399, 49, 42),\n",
       "  (1807, 398, 48, 44),\n",
       "  (1754, 398, 48, 45),\n",
       "  (1702, 398, 47, 45),\n",
       "  (1649, 398, 47, 45),\n",
       "  (1593, 397, 52, 47),\n",
       "  (1542, 401, 49, 42),\n",
       "  (1488, 400, 48, 45),\n",
       "  (1433, 401, 49, 44),\n",
       "  (1379, 401, 49, 45),\n",
       "  (1326, 402, 47, 44),\n",
       "  (1273, 402, 47, 45),\n",
       "  (1220, 403, 46, 45),\n",
       "  (1168, 403, 45, 45),\n",
       "  (1116, 403, 46, 46),\n",
       "  (1064, 404, 46, 45),\n",
       "  (1013, 405, 45, 44),\n",
       "  (962, 405, 45, 44),\n",
       "  (910, 405, 45, 45),\n",
       "  (858, 406, 45, 45),\n",
       "  (805, 406, 46, 45),\n",
       "  (753, 406, 46, 45),\n",
       "  (699, 406, 47, 45),\n",
       "  (646, 406, 47, 45),\n",
       "  (592, 407, 48, 45),\n",
       "  (539, 406, 48, 46),\n",
       "  (485, 407, 48, 45),\n",
       "  (431, 406, 48, 46),\n",
       "  (378, 406, 47, 46),\n",
       "  (325, 406, 47, 46),\n",
       "  (273, 406, 47, 46)],\n",
       " [(1858, 330, 48, 45),\n",
       "  (1805, 330, 48, 45),\n",
       "  (1752, 330, 47, 45),\n",
       "  (1699, 330, 47, 46),\n",
       "  (1648, 331, 46, 45),\n",
       "  (1595, 332, 46, 45),\n",
       "  (1542, 333, 47, 45),\n",
       "  (1488, 333, 48, 45),\n",
       "  (1433, 333, 49, 45),\n",
       "  (1379, 333, 48, 46),\n",
       "  (1326, 334, 47, 46),\n",
       "  (1273, 335, 47, 46),\n",
       "  (1220, 335, 46, 46),\n",
       "  (1168, 336, 45, 45),\n",
       "  (1115, 336, 46, 45),\n",
       "  (1064, 336, 46, 45),\n",
       "  (1013, 336, 45, 46),\n",
       "  (962, 337, 44, 45),\n",
       "  (910, 337, 45, 46),\n",
       "  (857, 338, 46, 46),\n",
       "  (805, 338, 46, 46),\n",
       "  (752, 338, 47, 46),\n",
       "  (699, 339, 47, 45),\n",
       "  (645, 339, 47, 45),\n",
       "  (592, 338, 47, 46),\n",
       "  (537, 338, 49, 46),\n",
       "  (484, 339, 48, 45),\n",
       "  (430, 338, 48, 46),\n",
       "  (377, 338, 47, 46),\n",
       "  (324, 339, 48, 43),\n",
       "  (272, 339, 47, 43),\n",
       "  (220, 337, 46, 47),\n",
       "  (169, 338, 46, 46),\n",
       "  (117, 338, 46, 46),\n",
       "  (64, 338, 47, 46)],\n",
       " [],\n",
       " [(1859, 262, 47, 45),\n",
       "  (1806, 262, 47, 45),\n",
       "  (1754, 262, 46, 45),\n",
       "  (1701, 262, 46, 45),\n",
       "  (1648, 263, 47, 45),\n",
       "  (1596, 263, 46, 46),\n",
       "  (1543, 264, 47, 45),\n",
       "  (1489, 265, 48, 45),\n",
       "  (1435, 265, 48, 45),\n",
       "  (1380, 265, 48, 45),\n",
       "  (1327, 266, 47, 45),\n",
       "  (1274, 267, 47, 45),\n",
       "  (1221, 268, 47, 45),\n",
       "  (1168, 268, 46, 45),\n",
       "  (1116, 268, 46, 45),\n",
       "  (1064, 268, 46, 45),\n",
       "  (1013, 269, 45, 44),\n",
       "  (961, 269, 45, 45),\n",
       "  (909, 269, 46, 45),\n",
       "  (857, 270, 46, 45),\n",
       "  (805, 270, 45, 45),\n",
       "  (752, 271, 46, 45),\n",
       "  (698, 271, 47, 44),\n",
       "  (645, 271, 47, 44),\n",
       "  (592, 271, 46, 44),\n",
       "  (538, 270, 47, 46),\n",
       "  (483, 271, 48, 44),\n",
       "  (429, 270, 48, 45),\n",
       "  (376, 270, 47, 45),\n",
       "  (323, 272, 48, 41),\n",
       "  (271, 270, 46, 45),\n",
       "  (219, 269, 46, 45),\n",
       "  (168, 269, 45, 46),\n",
       "  (115, 269, 47, 45),\n",
       "  (63, 269, 46, 46)],\n",
       " [(1860, 194, 47, 45),\n",
       "  (1808, 194, 47, 45),\n",
       "  (1755, 194, 47, 46),\n",
       "  (1702, 194, 47, 46),\n",
       "  (1650, 195, 47, 45),\n",
       "  (1597, 195, 47, 46),\n",
       "  (1544, 196, 47, 45),\n",
       "  (1491, 196, 47, 46),\n",
       "  (1435, 197, 49, 45),\n",
       "  (1382, 199, 48, 42),\n",
       "  (1328, 198, 47, 45),\n",
       "  (1274, 198, 48, 46),\n",
       "  (1221, 199, 47, 46),\n",
       "  (1168, 200, 46, 45),\n",
       "  (1117, 201, 45, 45),\n",
       "  (1064, 201, 46, 45),\n",
       "  (1013, 201, 45, 45),\n",
       "  (961, 201, 45, 45),\n",
       "  (909, 201, 46, 46),\n",
       "  (857, 202, 46, 45),\n",
       "  (804, 202, 46, 45),\n",
       "  (751, 202, 47, 46),\n",
       "  (697, 202, 48, 46),\n",
       "  (643, 202, 48, 46),\n",
       "  (590, 201, 48, 46),\n",
       "  (536, 202, 48, 45),\n",
       "  (481, 201, 49, 46),\n",
       "  (428, 201, 48, 46),\n",
       "  (374, 201, 48, 46),\n",
       "  (322, 201, 47, 46),\n",
       "  (269, 201, 47, 46),\n",
       "  (217, 200, 47, 46),\n",
       "  (166, 200, 46, 46),\n",
       "  (114, 201, 47, 45),\n",
       "  (62, 201, 47, 45)],\n",
       " [],\n",
       " [(1862, 124, 47, 46),\n",
       "  (1809, 125, 47, 45),\n",
       "  (1757, 125, 46, 46),\n",
       "  (1705, 125, 46, 46),\n",
       "  (1651, 126, 47, 46),\n",
       "  (1598, 127, 47, 45),\n",
       "  (1545, 127, 47, 45),\n",
       "  (1491, 127, 48, 46),\n",
       "  (1437, 127, 48, 47),\n",
       "  (1382, 128, 48, 47),\n",
       "  (1328, 129, 48, 46),\n",
       "  (1275, 130, 47, 46),\n",
       "  (1222, 132, 47, 43),\n",
       "  (1169, 131, 46, 46),\n",
       "  (1117, 131, 45, 46),\n",
       "  (1064, 132, 46, 46),\n",
       "  (1013, 133, 45, 45),\n",
       "  (961, 133, 45, 45),\n",
       "  (909, 133, 45, 46),\n",
       "  (856, 133, 46, 46),\n",
       "  (804, 133, 46, 46),\n",
       "  (750, 133, 47, 46),\n",
       "  (696, 133, 48, 46),\n",
       "  (641, 132, 52, 50),\n",
       "  (589, 133, 47, 45),\n",
       "  (534, 133, 49, 46),\n",
       "  (480, 133, 48, 45),\n",
       "  (426, 133, 48, 45),\n",
       "  (373, 132, 47, 46),\n",
       "  (320, 132, 47, 46),\n",
       "  (268, 132, 46, 46),\n",
       "  (216, 131, 46, 47),\n",
       "  (165, 132, 46, 46),\n",
       "  (113, 131, 47, 47),\n",
       "  (61, 132, 46, 46)],\n",
       " []]"
      ]
     },
     "execution_count": 8,
     "metadata": {},
     "output_type": "execute_result"
    }
   ],
   "source": [
    "print(len(b))\n",
    "b"
   ]
  },
  {
   "cell_type": "code",
   "execution_count": 9,
   "metadata": {
    "ExecuteTime": {
     "end_time": "2020-03-06T10:38:34.166152Z",
     "start_time": "2020-03-06T10:38:30.039644Z"
    }
   },
   "outputs": [],
   "source": [
    "count=0\n",
    "for i in b:\n",
    "    for j in i:\n",
    "        try:\n",
    "            x=j[0]\n",
    "            y=j[1]\n",
    "            w=j[2]\n",
    "            h=j[3]\n",
    "            cv2.imwrite(r\"C:\\Users\\Rahul\\Desktop\\Capstone\\form\\img3\\img\"+str(count)+\".jpg\",img[y:y+h,x:x+w])\n",
    "            count+=1\n",
    "            time.sleep(0.01)\n",
    "        except:\n",
    "            continue"
   ]
  },
  {
   "cell_type": "code",
   "execution_count": null,
   "metadata": {
    "ExecuteTime": {
     "end_time": "2020-02-07T07:06:41.179920Z",
     "start_time": "2020-02-07T07:06:14.284449Z"
    }
   },
   "outputs": [],
   "source": [
    "cv2.imshow(\"sub\",img)\n",
    "cv2.waitKey(0)\n",
    "cv2.destroyAllWindows()\n",
    "\n",
    "\n",
    "# cv2.imshow(\"sub\",imgray[752:752+36,1551:1551+41])\n",
    "# cv2.waitKey(0)\n",
    "# cv2.destroyAllWindows()"
   ]
  }
 ],
 "metadata": {
  "kernelspec": {
   "display_name": "Python 3",
   "language": "python",
   "name": "python3"
  },
  "language_info": {
   "codemirror_mode": {
    "name": "ipython",
    "version": 3
   },
   "file_extension": ".py",
   "mimetype": "text/x-python",
   "name": "python",
   "nbconvert_exporter": "python",
   "pygments_lexer": "ipython3",
   "version": "3.7.4"
  },
  "varInspector": {
   "cols": {
    "lenName": 16,
    "lenType": 16,
    "lenVar": 40
   },
   "kernels_config": {
    "python": {
     "delete_cmd_postfix": "",
     "delete_cmd_prefix": "del ",
     "library": "var_list.py",
     "varRefreshCmd": "print(var_dic_list())"
    },
    "r": {
     "delete_cmd_postfix": ") ",
     "delete_cmd_prefix": "rm(",
     "library": "var_list.r",
     "varRefreshCmd": "cat(var_dic_list()) "
    }
   },
   "types_to_exclude": [
    "module",
    "function",
    "builtin_function_or_method",
    "instance",
    "_Feature"
   ],
   "window_display": false
  }
 },
 "nbformat": 4,
 "nbformat_minor": 2
}
