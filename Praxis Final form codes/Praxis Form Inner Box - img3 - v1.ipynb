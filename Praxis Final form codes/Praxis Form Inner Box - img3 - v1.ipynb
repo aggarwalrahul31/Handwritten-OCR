{
 "cells": [
  {
   "cell_type": "code",
   "execution_count": 1,
   "metadata": {
    "ExecuteTime": {
     "end_time": "2020-03-03T16:23:39.839310Z",
     "start_time": "2020-03-03T16:23:39.589298Z"
    }
   },
   "outputs": [],
   "source": [
    "import time\n",
    "import statistics\n",
    "import cv2\n",
    "import numpy as np\n",
    "import matplotlib.pyplot as plt\n",
    "%matplotlib inline"
   ]
  },
  {
   "cell_type": "code",
   "execution_count": 2,
   "metadata": {
    "ExecuteTime": {
     "end_time": "2020-03-03T16:23:45.962891Z",
     "start_time": "2020-03-03T16:23:45.869498Z"
    }
   },
   "outputs": [],
   "source": [
    "#Load the image in black and white (0 - b/w, 1 - color).\n",
    "img = cv2.imread(r'C:\\Users\\Rahul\\Desktop\\Capstone\\form\\img2.jpg', 0)\n",
    "\n",
    "#Invert the image to be white on black for compatibility with findContours function.\n",
    "imgray = 255 - img\n",
    "\n",
    "# rects1 imp\n",
    "kernel = np.ones((2,5),np.uint8)\n",
    "imgray1 = cv2.dilate(imgray,kernel,iterations = 1)\n",
    "kernel = np.ones((5,2),np.uint8)\n",
    "imgray1 = cv2.dilate(imgray1,kernel,iterations = 1)\n",
    "thresh1 = cv2.adaptiveThreshold(imgray1, 255, cv2.ADAPTIVE_THRESH_MEAN_C,cv2.THRESH_BINARY,15,2)\n",
    "#Find all the contours in thresh. \n",
    "contours, hierarchy = cv2.findContours(thresh1, cv2.RETR_LIST, cv2.CHAIN_APPROX_SIMPLE)\n",
    "rects1 = [cv2.boundingRect(cnt) for cnt in contours]\n",
    "\n",
    "\n",
    "# rects2 imp\n",
    "imgray2 = cv2.blur(imgray,(10,3))\n",
    "thresh2 = cv2.adaptiveThreshold(imgray2, 255, cv2.ADAPTIVE_THRESH_MEAN_C,cv2.THRESH_BINARY,15,2)\n",
    "#Find all the contours in thresh. \n",
    "contours, hierarchy = cv2.findContours(thresh2, cv2.RETR_LIST, cv2.CHAIN_APPROX_SIMPLE)\n",
    "rects2 = [cv2.boundingRect(cnt) for cnt in contours]\n",
    "\n",
    "\n",
    "# rects3 imp\n",
    "imgray3 = cv2.blur(imgray,(3,10))\n",
    "thresh3 = cv2.adaptiveThreshold(imgray3, 255, cv2.ADAPTIVE_THRESH_MEAN_C,cv2.THRESH_BINARY,15,2)\n",
    "#Find all the contours in thresh. \n",
    "contours, hierarchy = cv2.findContours(thresh3, cv2.RETR_LIST, cv2.CHAIN_APPROX_SIMPLE)\n",
    "rects3 = [cv2.boundingRect(cnt) for cnt in contours]\n",
    "\n",
    "\n",
    "#rects4 imp\n",
    "kernel = np.ones((2,7),np.uint8)\n",
    "imgray4 = cv2.dilate(imgray,kernel,iterations = 1)\n",
    "thresh4 = cv2.adaptiveThreshold(imgray4, 255, cv2.ADAPTIVE_THRESH_MEAN_C,cv2.THRESH_BINARY,15,2)\n",
    "#Find all the contours in thresh. \n",
    "contours, hierarchy = cv2.findContours(thresh4, cv2.RETR_LIST, cv2.CHAIN_APPROX_SIMPLE)\n",
    "rects4 = [cv2.boundingRect(cnt) for cnt in contours]\n",
    "\n",
    "\n",
    "#rects5 imp\n",
    "kernel = np.ones((2,7),np.uint8)\n",
    "imgray5 = cv2.dilate(imgray,kernel,iterations = 1)\n",
    "thresh5 = cv2.adaptiveThreshold(imgray5, 255, cv2.ADAPTIVE_THRESH_MEAN_C,cv2.THRESH_BINARY,15,2)\n",
    "#Find all the contours in thresh. \n",
    "contours, hierarchy = cv2.findContours(thresh5, cv2.RETR_LIST, cv2.CHAIN_APPROX_SIMPLE)\n",
    "rects5 = [cv2.boundingRect(cnt) for cnt in contours]"
   ]
  },
  {
   "cell_type": "code",
   "execution_count": 3,
   "metadata": {
    "ExecuteTime": {
     "end_time": "2020-03-03T16:23:47.307133Z",
     "start_time": "2020-03-03T16:23:47.276041Z"
    }
   },
   "outputs": [
    {
     "data": {
      "text/plain": [
       "316"
      ]
     },
     "execution_count": 3,
     "metadata": {},
     "output_type": "execute_result"
    }
   ],
   "source": [
    "rects=[]\n",
    "for i in rects1:\n",
    "    if (i[2]>40 and i[2]<60 and i[3]>40 and i[3]<60 and i not in rects):\n",
    "        rects.append(i)\n",
    "\n",
    "for i in rects2:\n",
    "    if (i[2]>40 and i[2]<60 and i[3]>40 and i[3]<60 and i not in rects):\n",
    "        rects.append(i)\n",
    "        \n",
    "for i in rects3:\n",
    "    if (i[2]>40 and i[2]<60 and i[3]>40 and i[3]<60 and i not in rects):\n",
    "        rects.append(i)\n",
    "\n",
    "for i in rects4:\n",
    "    if (i[2]>40 and i[2]<60 and i[3]>40 and i[3]<60 and i not in rects):\n",
    "        rects.append(i)\n",
    "\n",
    "for i in rects5:\n",
    "    if (i[2]>40 and i[2]<60 and i[3]>40 and i[3]<60 and i not in rects):\n",
    "        rects.append(i)\n",
    "        \n",
    "\n",
    "len(rects)"
   ]
  },
  {
   "cell_type": "code",
   "execution_count": 4,
   "metadata": {
    "ExecuteTime": {
     "end_time": "2020-03-03T16:23:50.652220Z",
     "start_time": "2020-03-03T16:23:50.620979Z"
    }
   },
   "outputs": [
    {
     "data": {
      "text/plain": [
       "116"
      ]
     },
     "execution_count": 4,
     "metadata": {},
     "output_type": "execute_result"
    }
   ],
   "source": [
    "rects_final=rects.copy()\n",
    "for i in range(0,len(rects)-1):\n",
    "    try:\n",
    "        for j in range(i+1,len(rects)):\n",
    "            if (abs(rects[i][0] - rects[j][0]) < 10 and abs(rects[i][1] - rects[j][1]) < 10):\n",
    "                if (rects[i][2]  < rects[j][2] and rects[i][3] < rects[j][3]):\n",
    "                    rects_final.remove(rects[j])\n",
    "                else:\n",
    "                    rects_final.remove(rects[i])\n",
    "    except:\n",
    "        continue\n",
    "len(rects_final)"
   ]
  },
  {
   "cell_type": "code",
   "execution_count": 5,
   "metadata": {
    "ExecuteTime": {
     "end_time": "2020-03-03T16:24:03.333302Z",
     "start_time": "2020-03-03T16:24:03.302687Z"
    }
   },
   "outputs": [
    {
     "name": "stdout",
     "output_type": "stream",
     "text": [
      "372\n",
      "56\n",
      "1912\n",
      "323\n"
     ]
    }
   ],
   "source": [
    "rects=rects_final.copy()\n",
    "#Calculate the combined bounding rectangle points.\n",
    "top_x = min([x for (x, y, w, h) in rects])\n",
    "top_y = min([y for (x, y, w, h) in rects])\n",
    "bottom_x = max([x+w for (x, y, w, h) in rects])\n",
    "bottom_y = max([y+h for (x, y, w, h) in rects])\n",
    "print(top_x)\n",
    "print(top_y)\n",
    "print(bottom_x)\n",
    "print(bottom_y)"
   ]
  },
  {
   "cell_type": "code",
   "execution_count": 6,
   "metadata": {
    "ExecuteTime": {
     "end_time": "2020-03-03T16:24:05.735252Z",
     "start_time": "2020-03-03T16:24:04.927347Z"
    }
   },
   "outputs": [
    {
     "name": "stdout",
     "output_type": "stream",
     "text": [
      "[46]\n",
      "[47]\n"
     ]
    },
    {
     "data": {
      "text/plain": [
       "5"
      ]
     },
     "execution_count": 6,
     "metadata": {},
     "output_type": "execute_result"
    }
   ],
   "source": [
    "from scipy.stats import mode\n",
    "h_mode = mode([h for (x, y, w, h) in rects])[0]\n",
    "w_mode = mode([w for (x, y, w, h) in rects])[0]\n",
    "print(h_mode)\n",
    "print(w_mode)\n",
    "n=int(((bottom_y-top_y)/h_mode))\n",
    "n"
   ]
  },
  {
   "cell_type": "code",
   "execution_count": 7,
   "metadata": {
    "ExecuteTime": {
     "end_time": "2020-03-03T16:24:08.314608Z",
     "start_time": "2020-03-03T16:24:08.298952Z"
    }
   },
   "outputs": [
    {
     "data": {
      "text/plain": [
       "[]"
      ]
     },
     "execution_count": 7,
     "metadata": {},
     "output_type": "execute_result"
    }
   ],
   "source": [
    "import operator\n",
    "temp=[]\n",
    "b = [[] for i in range(0, n+3)]\n",
    "for j in range (1,n+3):\n",
    "    for i in rects:\n",
    "        x=i[0]\n",
    "        y=i[1]\n",
    "        w=i[2]\n",
    "        h=i[3]\n",
    "        if ((y > bottom_y-h_mode*j-h_mode/2) and (i not in temp)):\n",
    "            b[j].append(i)\n",
    "            temp.append(i)\n",
    "   # b[j]=sorted(b[j],key=operator.itemgetter(0,1))\n",
    "        b[j]=sorted(b[j],key=lambda x:(-x[0]))\n",
    "b.pop(0)"
   ]
  },
  {
   "cell_type": "code",
   "execution_count": 8,
   "metadata": {
    "ExecuteTime": {
     "end_time": "2020-03-03T16:24:08.831155Z",
     "start_time": "2020-03-03T16:24:08.800517Z"
    }
   },
   "outputs": [
    {
     "name": "stdout",
     "output_type": "stream",
     "text": [
      "7\n"
     ]
    },
    {
     "data": {
      "text/plain": [
       "[[(1864, 267, 48, 47),\n",
       "  (1809, 267, 48, 47),\n",
       "  (1755, 267, 47, 47),\n",
       "  (1702, 266, 47, 48),\n",
       "  (1647, 266, 51, 50),\n",
       "  (1595, 266, 47, 48),\n",
       "  (1541, 266, 47, 47),\n",
       "  (1487, 267, 48, 46),\n",
       "  (1432, 269, 49, 43),\n",
       "  (1377, 268, 49, 46),\n",
       "  (1324, 268, 47, 46),\n",
       "  (1270, 268, 47, 47),\n",
       "  (1217, 268, 47, 47),\n",
       "  (1165, 269, 46, 47),\n",
       "  (1112, 269, 46, 47),\n",
       "  (1060, 270, 46, 46),\n",
       "  (1008, 270, 46, 46),\n",
       "  (956, 271, 46, 45),\n",
       "  (902, 271, 50, 45),\n",
       "  (852, 271, 46, 46),\n",
       "  (800, 273, 47, 43),\n",
       "  (747, 273, 47, 44),\n",
       "  (694, 273, 47, 46),\n",
       "  (640, 273, 47, 46),\n",
       "  (587, 274, 46, 46),\n",
       "  (533, 274, 47, 47),\n",
       "  (479, 275, 48, 47),\n",
       "  (424, 278, 49, 43),\n",
       "  (372, 277, 47, 46)],\n",
       " [],\n",
       " [(1862, 196, 50, 47),\n",
       "  (1808, 196, 48, 47),\n",
       "  (1754, 196, 48, 47),\n",
       "  (1702, 195, 46, 48),\n",
       "  (1648, 196, 48, 47),\n",
       "  (1595, 197, 48, 44),\n",
       "  (1541, 195, 47, 48),\n",
       "  (1486, 196, 48, 47),\n",
       "  (1432, 197, 48, 46),\n",
       "  (1377, 199, 49, 43),\n",
       "  (1324, 198, 46, 46),\n",
       "  (1270, 198, 47, 47),\n",
       "  (1217, 198, 46, 48),\n",
       "  (1165, 199, 46, 47),\n",
       "  (1112, 201, 47, 43),\n",
       "  (1060, 200, 45, 46),\n",
       "  (1008, 200, 45, 46),\n",
       "  (956, 201, 45, 46),\n",
       "  (904, 201, 46, 46),\n",
       "  (852, 201, 46, 47),\n",
       "  (800, 201, 46, 47),\n",
       "  (747, 202, 46, 47),\n",
       "  (694, 203, 47, 46),\n",
       "  (641, 205, 47, 43),\n",
       "  (587, 204, 47, 47),\n",
       "  (531, 202, 51, 50),\n",
       "  (479, 205, 48, 47),\n",
       "  (425, 206, 47, 47),\n",
       "  (372, 207, 47, 47)],\n",
       " [(1862, 126, 48, 46),\n",
       "  (1807, 126, 48, 46),\n",
       "  (1754, 125, 47, 47),\n",
       "  (1701, 126, 47, 46),\n",
       "  (1647, 126, 48, 46),\n",
       "  (1594, 126, 48, 46),\n",
       "  (1540, 126, 47, 46),\n",
       "  (1486, 127, 48, 46),\n",
       "  (1432, 127, 48, 46),\n",
       "  (1376, 129, 49, 43),\n",
       "  (1323, 127, 47, 47),\n",
       "  (1270, 128, 47, 47),\n",
       "  (1216, 129, 47, 46),\n",
       "  (1164, 130, 46, 46),\n",
       "  (1111, 130, 46, 46),\n",
       "  (1059, 130, 46, 46),\n",
       "  (1008, 130, 45, 47),\n",
       "  (956, 131, 45, 47),\n",
       "  (904, 132, 46, 46),\n",
       "  (852, 132, 46, 46),\n",
       "  (800, 133, 46, 46),\n",
       "  (747, 133, 47, 46),\n",
       "  (694, 134, 47, 45),\n",
       "  (640, 134, 47, 46),\n",
       "  (587, 135, 47, 46),\n",
       "  (533, 137, 48, 42),\n",
       "  (479, 136, 48, 46),\n",
       "  (425, 136, 48, 47),\n",
       "  (372, 137, 47, 47)],\n",
       " [],\n",
       " [(1862, 58, 49, 42),\n",
       "  (1807, 56, 48, 46),\n",
       "  (1754, 58, 48, 43),\n",
       "  (1701, 57, 47, 45),\n",
       "  (1647, 57, 48, 45),\n",
       "  (1594, 59, 48, 42),\n",
       "  (1540, 57, 48, 46),\n",
       "  (1484, 56, 52, 49),\n",
       "  (1431, 58, 49, 46),\n",
       "  (1376, 59, 49, 46),\n",
       "  (1323, 60, 47, 45),\n",
       "  (1269, 60, 48, 45),\n",
       "  (1216, 60, 47, 46),\n",
       "  (1164, 61, 46, 46),\n",
       "  (1111, 61, 47, 46),\n",
       "  (1059, 62, 46, 46),\n",
       "  (1007, 63, 46, 45),\n",
       "  (956, 65, 46, 42),\n",
       "  (904, 63, 46, 46),\n",
       "  (852, 65, 47, 43),\n",
       "  (800, 64, 45, 46),\n",
       "  (747, 65, 46, 46),\n",
       "  (694, 66, 47, 45),\n",
       "  (640, 66, 47, 45),\n",
       "  (587, 66, 47, 46),\n",
       "  (533, 67, 47, 46),\n",
       "  (479, 68, 48, 46),\n",
       "  (426, 69, 47, 45),\n",
       "  (372, 69, 48, 45)],\n",
       " []]"
      ]
     },
     "execution_count": 8,
     "metadata": {},
     "output_type": "execute_result"
    }
   ],
   "source": [
    "print(len(b))\n",
    "b"
   ]
  },
  {
   "cell_type": "code",
   "execution_count": 11,
   "metadata": {
    "ExecuteTime": {
     "end_time": "2020-03-03T16:26:38.839964Z",
     "start_time": "2020-03-03T16:26:36.949831Z"
    }
   },
   "outputs": [],
   "source": [
    "count=0\n",
    "for i in b:\n",
    "    for j in i:\n",
    "        try:\n",
    "            x=j[0]\n",
    "            y=j[1]\n",
    "            w=j[2]\n",
    "            h=j[3]\n",
    "            cv2.imwrite(r\"C:\\Users\\Rahul\\Desktop\\Capstone\\form\\img2\\img\"+str(count)+\".jpg\",img[y:y+h,x:x+w])\n",
    "            count+=1\n",
    "            time.sleep(0.01)\n",
    "        except:\n",
    "            continue"
   ]
  },
  {
   "cell_type": "code",
   "execution_count": null,
   "metadata": {
    "ExecuteTime": {
     "end_time": "2020-02-07T07:06:41.179920Z",
     "start_time": "2020-02-07T07:06:14.284449Z"
    }
   },
   "outputs": [],
   "source": [
    "cv2.imshow(\"sub\",img)\n",
    "cv2.waitKey(0)\n",
    "cv2.destroyAllWindows()\n",
    "\n",
    "\n",
    "# cv2.imshow(\"sub\",imgray[752:752+36,1551:1551+41])\n",
    "# cv2.waitKey(0)\n",
    "# cv2.destroyAllWindows()"
   ]
  }
 ],
 "metadata": {
  "kernelspec": {
   "display_name": "Python 3",
   "language": "python",
   "name": "python3"
  },
  "language_info": {
   "codemirror_mode": {
    "name": "ipython",
    "version": 3
   },
   "file_extension": ".py",
   "mimetype": "text/x-python",
   "name": "python",
   "nbconvert_exporter": "python",
   "pygments_lexer": "ipython3",
   "version": "3.7.4"
  },
  "varInspector": {
   "cols": {
    "lenName": 16,
    "lenType": 16,
    "lenVar": 40
   },
   "kernels_config": {
    "python": {
     "delete_cmd_postfix": "",
     "delete_cmd_prefix": "del ",
     "library": "var_list.py",
     "varRefreshCmd": "print(var_dic_list())"
    },
    "r": {
     "delete_cmd_postfix": ") ",
     "delete_cmd_prefix": "rm(",
     "library": "var_list.r",
     "varRefreshCmd": "cat(var_dic_list()) "
    }
   },
   "types_to_exclude": [
    "module",
    "function",
    "builtin_function_or_method",
    "instance",
    "_Feature"
   ],
   "window_display": false
  }
 },
 "nbformat": 4,
 "nbformat_minor": 2
}
