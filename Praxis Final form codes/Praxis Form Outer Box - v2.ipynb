{
 "cells": [
  {
   "cell_type": "code",
   "execution_count": 6,
   "metadata": {
    "ExecuteTime": {
     "end_time": "2020-03-16T05:23:48.628067Z",
     "start_time": "2020-03-16T05:23:48.237825Z"
    }
   },
   "outputs": [],
   "source": [
    "import time\n",
    "import statistics\n",
    "import cv2\n",
    "import numpy as np\n",
    "import matplotlib.pyplot as plt\n",
    "%matplotlib inline\n",
    "from scipy.stats import mode"
   ]
  },
  {
   "cell_type": "code",
   "execution_count": 2,
   "metadata": {
    "ExecuteTime": {
     "end_time": "2020-03-16T05:23:27.487019Z",
     "start_time": "2020-03-16T05:23:27.362048Z"
    }
   },
   "outputs": [],
   "source": [
    "#Load the image in black and white (0 - b/w, 1 - color).\n",
    "img = cv2.imread(r'C:\\Users\\Rahul\\Desktop\\Capstone\\praxis.jpg', 0)\n",
    "\n",
    "#Get the height and width of the image.\n",
    "h, w = img.shape[:2]\n",
    "\n",
    "#Invert the image to be white on black for compatibility with findContours function.\n",
    "imgray = 255 - img\n",
    "\n",
    "# Remove noise using dilate and thershold\n",
    "kernel = np.ones((2,2),np.uint8)\n",
    "imgray = cv2.dilate(imgray,kernel,iterations = 1)\n",
    "thresh = cv2.adaptiveThreshold(imgray, 255, cv2.ADAPTIVE_THRESH_GAUSSIAN_C,cv2.THRESH_BINARY,15,2)\n",
    "\n",
    "\n",
    "#Find all the contours in thresh. \n",
    "contours, hierarchy = cv2.findContours(thresh, cv2.RETR_CCOMP, cv2.CHAIN_APPROX_SIMPLE)\n",
    "\n",
    "#Calculate bounding rectangles for each contour.\n",
    "rects = [cv2.boundingRect(cnt) for cnt in contours]"
   ]
  },
  {
   "cell_type": "code",
   "execution_count": 3,
   "metadata": {
    "ExecuteTime": {
     "end_time": "2020-03-16T05:23:29.848127Z",
     "start_time": "2020-03-16T05:23:29.832506Z"
    }
   },
   "outputs": [
    {
     "data": {
      "text/plain": [
       "(3056, 2132)"
      ]
     },
     "execution_count": 3,
     "metadata": {},
     "output_type": "execute_result"
    }
   ],
   "source": [
    "thresh.shape"
   ]
  },
  {
   "cell_type": "code",
   "execution_count": 7,
   "metadata": {
    "ExecuteTime": {
     "end_time": "2020-03-16T05:23:51.424560Z",
     "start_time": "2020-03-16T05:23:51.392958Z"
    }
   },
   "outputs": [
    {
     "data": {
      "text/plain": [
       "[(0, 2932, 1016, 124),\n",
       " (117, 2225, 1951, 338),\n",
       " (122, 1941, 1949, 260),\n",
       " (123, 1563, 1947, 354),\n",
       " (115, 856, 1951, 684),\n",
       " (116, 556, 1946, 271),\n",
       " (117, 360, 933, 171),\n",
       " (104, 347, 959, 198)]"
      ]
     },
     "execution_count": 7,
     "metadata": {},
     "output_type": "execute_result"
    }
   ],
   "source": [
    "rects2=[]\n",
    "count=0\n",
    "for i in rects:\n",
    "    if (hierarchy[0][count][2]>0):\n",
    "        if (i[2]>thresh.shape[1]/3 and i[2]< thresh.shape[1]):\n",
    "            rects2.append(i)\n",
    "    count+=1\n",
    "h_mode = mode([h for (x, y, w, h) in rects2])[0]\n",
    "\n",
    "rects2=[]\n",
    "count=0\n",
    "for i in rects:\n",
    "    if (hierarchy[0][count][2]>0):\n",
    "        if (i[2]>thresh.shape[1]/3 and i[2]< thresh.shape[1] and i[3] > h_mode*1.2 ):\n",
    "            rects2.append(i)\n",
    "    count+=1\n",
    "rects2"
   ]
  },
  {
   "cell_type": "code",
   "execution_count": 8,
   "metadata": {
    "ExecuteTime": {
     "end_time": "2020-03-16T05:23:54.587760Z",
     "start_time": "2020-03-16T05:23:54.572388Z"
    }
   },
   "outputs": [
    {
     "data": {
      "text/plain": [
       "8"
      ]
     },
     "execution_count": 8,
     "metadata": {},
     "output_type": "execute_result"
    }
   ],
   "source": [
    "len(rects2)"
   ]
  },
  {
   "cell_type": "code",
   "execution_count": 9,
   "metadata": {
    "ExecuteTime": {
     "end_time": "2020-03-16T05:23:57.009018Z",
     "start_time": "2020-03-16T05:23:56.993773Z"
    }
   },
   "outputs": [
    {
     "data": {
      "text/plain": [
       "[(0, 2932, 1016, 124),\n",
       " (117, 2225, 1951, 338),\n",
       " (122, 1941, 1949, 260),\n",
       " (123, 1563, 1947, 354),\n",
       " (115, 856, 1951, 684),\n",
       " (116, 556, 1946, 271),\n",
       " (104, 347, 959, 198)]"
      ]
     },
     "execution_count": 9,
     "metadata": {},
     "output_type": "execute_result"
    }
   ],
   "source": [
    "# Removing overlapping contours\n",
    "\n",
    "rects3=rects2.copy()\n",
    "for i in range(0,len(rects2)-1):\n",
    "    try:\n",
    "        for j in range(i+1,len(rects2)):\n",
    "            if (rects2[i][1] -rects2[j][1] <50):\n",
    "                if rects2[i][2]>rects2[j][2]:\n",
    "                    value=rects2[j]\n",
    "                    rects3.remove(value)\n",
    "                else :\n",
    "                    value=rects2[i]\n",
    "                    rects3.remove(value)\n",
    "    except:\n",
    "        continue\n",
    "rects3"
   ]
  },
  {
   "cell_type": "code",
   "execution_count": 10,
   "metadata": {
    "ExecuteTime": {
     "end_time": "2020-03-16T05:24:00.711283Z",
     "start_time": "2020-03-16T05:24:00.695647Z"
    }
   },
   "outputs": [
    {
     "data": {
      "text/plain": [
       "[(104, 347, 959, 198),\n",
       " (116, 556, 1946, 271),\n",
       " (115, 856, 1951, 684),\n",
       " (123, 1563, 1947, 354),\n",
       " (122, 1941, 1949, 260),\n",
       " (117, 2225, 1951, 338),\n",
       " (0, 2932, 1016, 124)]"
      ]
     },
     "execution_count": 10,
     "metadata": {},
     "output_type": "execute_result"
    }
   ],
   "source": [
    "rects4=sorted(rects3,key=lambda x:(x[1]))\n",
    "rects4"
   ]
  },
  {
   "cell_type": "code",
   "execution_count": 12,
   "metadata": {
    "ExecuteTime": {
     "end_time": "2020-03-16T05:24:14.043619Z",
     "start_time": "2020-03-16T05:24:13.887042Z"
    }
   },
   "outputs": [],
   "source": [
    "count=0\n",
    "for j in rects4:\n",
    "    try:\n",
    "        x=j[0]\n",
    "        y=j[1]\n",
    "        w=j[2]\n",
    "        h=j[3]\n",
    "        #cv2.imwrite(r\"C:\\Users\\Rahul\\Desktop\\Capstone\\form\\img\"+str(count)+\".jpg\",img[y+30:y+h-30,x+30:x+w-30])\n",
    "        \n",
    "        cv2.imwrite(r\"C:\\Users\\Rahul\\Desktop\\Capstone\\form\\img\"+str(count)+\".jpg\",img[y:y+h,x:x+w])\n",
    "        cv2.imwrite(r\"C:\\Users\\Rahul\\Desktop\\Capstone\\form\\img\"+str(count)+\"ray.jpg\",imgray[y:y+h,x:x+w])\n",
    "        time.sleep(0.001)\n",
    "        count+=1\n",
    "    except:\n",
    "        continue"
   ]
  },
  {
   "cell_type": "code",
   "execution_count": 118,
   "metadata": {
    "ExecuteTime": {
     "end_time": "2020-03-02T14:52:46.710986Z",
     "start_time": "2020-03-02T14:52:43.133709Z"
    }
   },
   "outputs": [],
   "source": [
    "cv2.imshow(\"sub\",img)\n",
    "cv2.waitKey(0)\n",
    "cv2.destroyAllWindows()\n",
    "\n",
    "\n",
    "# cv2.imshow(\"sub\",imgray[752:752+36,1551:1551+41])\n",
    "# cv2.waitKey(0)\n",
    "# cv2.destroyAllWindows()"
   ]
  },
  {
   "cell_type": "code",
   "execution_count": null,
   "metadata": {},
   "outputs": [],
   "source": []
  }
 ],
 "metadata": {
  "kernelspec": {
   "display_name": "Python 3",
   "language": "python",
   "name": "python3"
  },
  "language_info": {
   "codemirror_mode": {
    "name": "ipython",
    "version": 3
   },
   "file_extension": ".py",
   "mimetype": "text/x-python",
   "name": "python",
   "nbconvert_exporter": "python",
   "pygments_lexer": "ipython3",
   "version": "3.7.4"
  },
  "varInspector": {
   "cols": {
    "lenName": 16,
    "lenType": 16,
    "lenVar": 40
   },
   "kernels_config": {
    "python": {
     "delete_cmd_postfix": "",
     "delete_cmd_prefix": "del ",
     "library": "var_list.py",
     "varRefreshCmd": "print(var_dic_list())"
    },
    "r": {
     "delete_cmd_postfix": ") ",
     "delete_cmd_prefix": "rm(",
     "library": "var_list.r",
     "varRefreshCmd": "cat(var_dic_list()) "
    }
   },
   "types_to_exclude": [
    "module",
    "function",
    "builtin_function_or_method",
    "instance",
    "_Feature"
   ],
   "window_display": false
  }
 },
 "nbformat": 4,
 "nbformat_minor": 2
}
