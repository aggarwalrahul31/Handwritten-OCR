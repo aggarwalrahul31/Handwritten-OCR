{
 "cells": [
  {
   "cell_type": "code",
   "execution_count": 1,
   "metadata": {
    "ExecuteTime": {
     "end_time": "2020-03-06T10:51:50.449644Z",
     "start_time": "2020-03-06T10:51:50.195665Z"
    }
   },
   "outputs": [],
   "source": [
    "import time\n",
    "import statistics\n",
    "import cv2\n",
    "import numpy as np\n",
    "import matplotlib.pyplot as plt\n",
    "%matplotlib inline"
   ]
  },
  {
   "cell_type": "code",
   "execution_count": 3,
   "metadata": {
    "ExecuteTime": {
     "end_time": "2020-03-06T10:52:07.351350Z",
     "start_time": "2020-03-06T10:52:07.298564Z"
    }
   },
   "outputs": [],
   "source": [
    "#Load the image in black and white (0 - b/w, 1 - color).\n",
    "img = cv2.imread(r'C:\\Users\\Rahul\\Desktop\\Capstone\\form\\img5.jpg', 0)\n",
    "\n",
    "#Invert the image to be white on black for compatibility with findContours function.\n",
    "imgray = 255 - img\n",
    "\n",
    "# rects1 imp\n",
    "kernel = np.ones((2,5),np.uint8)\n",
    "imgray1 = cv2.dilate(imgray,kernel,iterations = 1)\n",
    "kernel = np.ones((5,2),np.uint8)\n",
    "imgray1 = cv2.dilate(imgray1,kernel,iterations = 1)\n",
    "thresh1 = cv2.adaptiveThreshold(imgray1, 255, cv2.ADAPTIVE_THRESH_MEAN_C,cv2.THRESH_BINARY,15,2)\n",
    "#Find all the contours in thresh. \n",
    "contours, hierarchy = cv2.findContours(thresh1, cv2.RETR_LIST, cv2.CHAIN_APPROX_SIMPLE)\n",
    "rects1 = [cv2.boundingRect(cnt) for cnt in contours]\n",
    "\n",
    "\n",
    "# rects2 imp\n",
    "imgray2 = cv2.blur(imgray,(10,3))\n",
    "thresh2 = cv2.adaptiveThreshold(imgray2, 255, cv2.ADAPTIVE_THRESH_MEAN_C,cv2.THRESH_BINARY,15,2)\n",
    "#Find all the contours in thresh. \n",
    "contours, hierarchy = cv2.findContours(thresh2, cv2.RETR_LIST, cv2.CHAIN_APPROX_SIMPLE)\n",
    "rects2 = [cv2.boundingRect(cnt) for cnt in contours]\n",
    "\n",
    "\n",
    "# rects3 imp\n",
    "imgray3 = cv2.blur(imgray,(3,10))\n",
    "thresh3 = cv2.adaptiveThreshold(imgray3, 255, cv2.ADAPTIVE_THRESH_MEAN_C,cv2.THRESH_BINARY,15,2)\n",
    "#Find all the contours in thresh. \n",
    "contours, hierarchy = cv2.findContours(thresh3, cv2.RETR_LIST, cv2.CHAIN_APPROX_SIMPLE)\n",
    "rects3 = [cv2.boundingRect(cnt) for cnt in contours]\n",
    "\n",
    "\n",
    "#rects4 imp\n",
    "kernel = np.ones((2,7),np.uint8)\n",
    "imgray4 = cv2.dilate(imgray,kernel,iterations = 1)\n",
    "thresh4 = cv2.adaptiveThreshold(imgray4, 255, cv2.ADAPTIVE_THRESH_MEAN_C,cv2.THRESH_BINARY,15,2)\n",
    "#Find all the contours in thresh. \n",
    "contours, hierarchy = cv2.findContours(thresh4, cv2.RETR_LIST, cv2.CHAIN_APPROX_SIMPLE)\n",
    "rects4 = [cv2.boundingRect(cnt) for cnt in contours]\n",
    "\n",
    "\n",
    "#rects5 imp\n",
    "kernel = np.ones((2,7),np.uint8)\n",
    "imgray5 = cv2.dilate(imgray,kernel,iterations = 1)\n",
    "thresh5 = cv2.adaptiveThreshold(imgray5, 255, cv2.ADAPTIVE_THRESH_MEAN_C,cv2.THRESH_BINARY,15,2)\n",
    "#Find all the contours in thresh. \n",
    "contours, hierarchy = cv2.findContours(thresh5, cv2.RETR_LIST, cv2.CHAIN_APPROX_SIMPLE)\n",
    "rects5 = [cv2.boundingRect(cnt) for cnt in contours]"
   ]
  },
  {
   "cell_type": "code",
   "execution_count": 4,
   "metadata": {
    "ExecuteTime": {
     "end_time": "2020-03-06T10:52:58.438955Z",
     "start_time": "2020-03-06T10:52:58.407670Z"
    }
   },
   "outputs": [
    {
     "data": {
      "text/plain": [
       "17"
      ]
     },
     "execution_count": 4,
     "metadata": {},
     "output_type": "execute_result"
    }
   ],
   "source": [
    "rects=[]\n",
    "for i in rects1:\n",
    "    if (i[2]>80 and i[2]<120 and i[3]>80 and i[3]<120 and i not in rects):\n",
    "        rects.append(i)\n",
    "\n",
    "for i in rects2:\n",
    "    if (i[2]>80 and i[2]<120 and i[3]>80 and i[3]<120 and i not in rects):\n",
    "        rects.append(i)\n",
    "        \n",
    "for i in rects3:\n",
    "    if (i[2]>80 and i[2]<120 and i[3]>80 and i[3]<120 and i not in rects):\n",
    "        rects.append(i)\n",
    "\n",
    "for i in rects4:\n",
    "    if (i[2]>80 and i[2]<120 and i[3]>80 and i[3]<120 and i not in rects):        rects.append(i)\n",
    "\n",
    "for i in rects5:\n",
    "    if (i[2]>80 and i[2]<120 and i[3]>80 and i[3]<120 and i not in rects):\n",
    "        rects.append(i)\n",
    "        \n",
    "\n",
    "len(rects)"
   ]
  },
  {
   "cell_type": "code",
   "execution_count": 5,
   "metadata": {
    "ExecuteTime": {
     "end_time": "2020-03-06T10:53:00.434374Z",
     "start_time": "2020-03-06T10:53:00.403735Z"
    }
   },
   "outputs": [
    {
     "data": {
      "text/plain": [
       "6"
      ]
     },
     "execution_count": 5,
     "metadata": {},
     "output_type": "execute_result"
    }
   ],
   "source": [
    "rects_final=rects.copy()\n",
    "for i in range(0,len(rects)-1):\n",
    "    try:\n",
    "        for j in range(i+1,len(rects)):\n",
    "            if (abs(rects[i][0] - rects[j][0]) < 10 and abs(rects[i][1] - rects[j][1]) < 10):\n",
    "                if (rects[i][2]  < rects[j][2] and rects[i][3] < rects[j][3]):\n",
    "                    rects_final.remove(rects[j])\n",
    "                else:\n",
    "                    rects_final.remove(rects[i])\n",
    "    except:\n",
    "        continue\n",
    "len(rects_final)"
   ]
  },
  {
   "cell_type": "code",
   "execution_count": 6,
   "metadata": {
    "ExecuteTime": {
     "end_time": "2020-03-06T10:53:02.370680Z",
     "start_time": "2020-03-06T10:53:02.360611Z"
    }
   },
   "outputs": [
    {
     "name": "stdout",
     "output_type": "stream",
     "text": [
      "266\n",
      "54\n",
      "900\n",
      "144\n"
     ]
    }
   ],
   "source": [
    "rects=rects_final.copy()\n",
    "#Calculate the combined bounding rectangle points.\n",
    "top_x = min([x for (x, y, w, h) in rects])\n",
    "top_y = min([y for (x, y, w, h) in rects])\n",
    "bottom_x = max([x+w for (x, y, w, h) in rects])\n",
    "bottom_y = max([y+h for (x, y, w, h) in rects])\n",
    "print(top_x)\n",
    "print(top_y)\n",
    "print(bottom_x)\n",
    "print(bottom_y)"
   ]
  },
  {
   "cell_type": "code",
   "execution_count": 7,
   "metadata": {
    "ExecuteTime": {
     "end_time": "2020-03-06T10:53:05.688219Z",
     "start_time": "2020-03-06T10:53:05.303400Z"
    }
   },
   "outputs": [
    {
     "name": "stdout",
     "output_type": "stream",
     "text": [
      "[89]\n",
      "[101]\n"
     ]
    },
    {
     "data": {
      "text/plain": [
       "1"
      ]
     },
     "execution_count": 7,
     "metadata": {},
     "output_type": "execute_result"
    }
   ],
   "source": [
    "from scipy.stats import mode\n",
    "h_mode = mode([h for (x, y, w, h) in rects])[0]\n",
    "w_mode = mode([w for (x, y, w, h) in rects])[0]\n",
    "print(h_mode)\n",
    "print(w_mode)\n",
    "n=int(((bottom_y-top_y)/h_mode))\n",
    "n"
   ]
  },
  {
   "cell_type": "code",
   "execution_count": 8,
   "metadata": {
    "ExecuteTime": {
     "end_time": "2020-03-06T10:53:06.912219Z",
     "start_time": "2020-03-06T10:53:06.896599Z"
    }
   },
   "outputs": [
    {
     "data": {
      "text/plain": [
       "[]"
      ]
     },
     "execution_count": 8,
     "metadata": {},
     "output_type": "execute_result"
    }
   ],
   "source": [
    "import operator\n",
    "temp=[]\n",
    "b = [[] for i in range(0, n+3)]\n",
    "for j in range (1,n+3):\n",
    "    for i in rects:\n",
    "        x=i[0]\n",
    "        y=i[1]\n",
    "        w=i[2]\n",
    "        h=i[3]\n",
    "        if ((y > bottom_y-h_mode*j-h_mode/2.5) and (i not in temp)):\n",
    "            b[j].append(i)\n",
    "            temp.append(i)\n",
    "   # b[j]=sorted(b[j],key=operator.itemgetter(0,1))\n",
    "        b[j]=sorted(b[j],key=lambda x:(-x[0]))\n",
    "b.pop(0)"
   ]
  },
  {
   "cell_type": "code",
   "execution_count": 9,
   "metadata": {
    "ExecuteTime": {
     "end_time": "2020-03-06T10:53:07.738149Z",
     "start_time": "2020-03-06T10:53:07.722527Z"
    }
   },
   "outputs": [
    {
     "name": "stdout",
     "output_type": "stream",
     "text": [
      "3\n"
     ]
    },
    {
     "data": {
      "text/plain": [
       "[[(801, 55, 99, 89),\n",
       "  (693, 55, 101, 89),\n",
       "  (586, 55, 101, 89),\n",
       "  (477, 54, 102, 90),\n",
       "  (370, 54, 100, 90),\n",
       "  (266, 55, 97, 89)],\n",
       " [],\n",
       " []]"
      ]
     },
     "execution_count": 9,
     "metadata": {},
     "output_type": "execute_result"
    }
   ],
   "source": [
    "print(len(b))\n",
    "b"
   ]
  },
  {
   "cell_type": "code",
   "execution_count": 10,
   "metadata": {
    "ExecuteTime": {
     "end_time": "2020-03-06T10:53:14.983606Z",
     "start_time": "2020-03-06T10:53:14.852105Z"
    }
   },
   "outputs": [],
   "source": [
    "count=0\n",
    "for i in b:\n",
    "    for j in i:\n",
    "        try:\n",
    "            x=j[0]\n",
    "            y=j[1]\n",
    "            w=j[2]\n",
    "            h=j[3]\n",
    "            cv2.imwrite(r\"C:\\Users\\Rahul\\Desktop\\Capstone\\form\\img5\\img\"+str(count)+\".jpg\",img[y:y+h,x:x+w])\n",
    "            count+=1\n",
    "            time.sleep(0.01)\n",
    "        except:\n",
    "            continue"
   ]
  },
  {
   "cell_type": "code",
   "execution_count": null,
   "metadata": {
    "ExecuteTime": {
     "end_time": "2020-02-07T07:06:41.179920Z",
     "start_time": "2020-02-07T07:06:14.284449Z"
    }
   },
   "outputs": [],
   "source": [
    "cv2.imshow(\"sub\",img)\n",
    "cv2.waitKey(0)\n",
    "cv2.destroyAllWindows()\n",
    "\n",
    "\n",
    "# cv2.imshow(\"sub\",imgray[752:752+36,1551:1551+41])\n",
    "# cv2.waitKey(0)\n",
    "# cv2.destroyAllWindows()"
   ]
  }
 ],
 "metadata": {
  "kernelspec": {
   "display_name": "Python 3",
   "language": "python",
   "name": "python3"
  },
  "language_info": {
   "codemirror_mode": {
    "name": "ipython",
    "version": 3
   },
   "file_extension": ".py",
   "mimetype": "text/x-python",
   "name": "python",
   "nbconvert_exporter": "python",
   "pygments_lexer": "ipython3",
   "version": "3.7.4"
  },
  "varInspector": {
   "cols": {
    "lenName": 16,
    "lenType": 16,
    "lenVar": 40
   },
   "kernels_config": {
    "python": {
     "delete_cmd_postfix": "",
     "delete_cmd_prefix": "del ",
     "library": "var_list.py",
     "varRefreshCmd": "print(var_dic_list())"
    },
    "r": {
     "delete_cmd_postfix": ") ",
     "delete_cmd_prefix": "rm(",
     "library": "var_list.r",
     "varRefreshCmd": "cat(var_dic_list()) "
    }
   },
   "types_to_exclude": [
    "module",
    "function",
    "builtin_function_or_method",
    "instance",
    "_Feature"
   ],
   "window_display": false
  }
 },
 "nbformat": 4,
 "nbformat_minor": 2
}
