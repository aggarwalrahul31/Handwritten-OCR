{
 "cells": [
  {
   "cell_type": "code",
   "execution_count": null,
   "metadata": {
    "ExecuteTime": {
     "end_time": "2020-03-02T06:55:37.368175Z",
     "start_time": "2020-03-02T06:55:29.525718Z"
    }
   },
   "outputs": [],
   "source": [
    "import pandas as pd"
   ]
  },
  {
   "cell_type": "code",
   "execution_count": null,
   "metadata": {
    "ExecuteTime": {
     "end_time": "2020-02-29T18:55:16.852024Z",
     "start_time": "2020-02-29T18:54:52.463140Z"
    }
   },
   "outputs": [],
   "source": [
    "df=pd.read_csv(\"train_converted_letters_1000.csv\")"
   ]
  },
  {
   "cell_type": "code",
   "execution_count": null,
   "metadata": {
    "ExecuteTime": {
     "end_time": "2020-02-29T18:55:17.226936Z",
     "start_time": "2020-02-29T18:55:17.211314Z"
    }
   },
   "outputs": [],
   "source": [
    "df.shape"
   ]
  },
  {
   "cell_type": "code",
   "execution_count": null,
   "metadata": {
    "ExecuteTime": {
     "end_time": "2020-02-29T18:56:51.981404Z",
     "start_time": "2020-02-29T18:56:51.950159Z"
    }
   },
   "outputs": [],
   "source": [
    "df.iloc[6800]"
   ]
  },
  {
   "cell_type": "code",
   "execution_count": null,
   "metadata": {},
   "outputs": [],
   "source": []
  },
  {
   "cell_type": "code",
   "execution_count": null,
   "metadata": {},
   "outputs": [],
   "source": []
  },
  {
   "cell_type": "code",
   "execution_count": null,
   "metadata": {
    "ExecuteTime": {
     "end_time": "2020-02-17T06:55:48.786354Z",
     "start_time": "2020-02-17T06:55:23.602351Z"
    }
   },
   "outputs": [],
   "source": [
    "df=pd.read_csv(r\"C:\\Users\\Rahul\\Desktop\\Capstone\\A_Z Handwritten Data\\A_Z Handwritten Data.csv\")"
   ]
  },
  {
   "cell_type": "code",
   "execution_count": null,
   "metadata": {
    "ExecuteTime": {
     "end_time": "2020-02-17T07:12:06.888345Z",
     "start_time": "2020-02-17T07:12:06.872682Z"
    }
   },
   "outputs": [],
   "source": [
    "df.shape"
   ]
  },
  {
   "cell_type": "code",
   "execution_count": null,
   "metadata": {
    "ExecuteTime": {
     "end_time": "2020-02-17T07:08:38.781790Z",
     "start_time": "2020-02-17T07:08:38.734929Z"
    }
   },
   "outputs": [],
   "source": [
    "df.tail()"
   ]
  },
  {
   "cell_type": "code",
   "execution_count": null,
   "metadata": {
    "ExecuteTime": {
     "end_time": "2020-02-17T07:12:21.709869Z",
     "start_time": "2020-02-17T07:12:21.678627Z"
    }
   },
   "outputs": [],
   "source": [
    "one=df.loc[372449].as_matrix()\n",
    "one"
   ]
  },
  {
   "cell_type": "code",
   "execution_count": null,
   "metadata": {
    "ExecuteTime": {
     "end_time": "2020-02-17T07:12:51.214165Z",
     "start_time": "2020-02-17T07:12:51.182922Z"
    }
   },
   "outputs": [],
   "source": [
    "two=one[1:].reshape(28,28)\n",
    "two"
   ]
  },
  {
   "cell_type": "code",
   "execution_count": null,
   "metadata": {
    "ExecuteTime": {
     "end_time": "2020-02-17T07:49:32.711988Z",
     "start_time": "2020-02-17T07:49:20.171871Z"
    }
   },
   "outputs": [],
   "source": [
    "import PIL\n",
    "from matplotlib import image\n",
    "from matplotlib import pyplot\n",
    "print('Pillow Version:', PIL.__version__)"
   ]
  },
  {
   "cell_type": "code",
   "execution_count": null,
   "metadata": {
    "ExecuteTime": {
     "end_time": "2020-02-17T06:31:05.423202Z",
     "start_time": "2020-02-17T06:30:47.609149Z"
    }
   },
   "outputs": [],
   "source": [
    "# load and show an image with Pillow\n",
    "from PIL import Image\n",
    "# load the image\n",
    "\n",
    "image = Image.open(r'C:\\Users\\Rahul\\Desktop\\Capstone\\OCR\\results\\1\\1 img 9.jpg')\n",
    "# summarize some details about the image\n",
    "print(image.format)\n",
    "print(image.mode)\n",
    "print(image.size)\n",
    "# show the image\n",
    "image.show()"
   ]
  },
  {
   "cell_type": "code",
   "execution_count": null,
   "metadata": {},
   "outputs": [],
   "source": []
  },
  {
   "cell_type": "code",
   "execution_count": null,
   "metadata": {},
   "outputs": [],
   "source": []
  },
  {
   "cell_type": "code",
   "execution_count": null,
   "metadata": {},
   "outputs": [],
   "source": []
  },
  {
   "cell_type": "code",
   "execution_count": null,
   "metadata": {},
   "outputs": [],
   "source": []
  },
  {
   "cell_type": "code",
   "execution_count": null,
   "metadata": {
    "ExecuteTime": {
     "end_time": "2020-02-17T06:38:52.927183Z",
     "start_time": "2020-02-17T06:38:45.722632Z"
    }
   },
   "outputs": [],
   "source": [
    "# load and display an image with Matplotlib\n",
    "from matplotlib import image\n",
    "from matplotlib import pyplot\n",
    "# load image as pixel array\n",
    "data = image.imread(r'C:\\Users\\Rahul\\Desktop\\Capstone\\OCR\\results\\1\\1 img 9.jpg')\n",
    "# summarize shape of the pixel array\n",
    "print(data.dtype)\n",
    "print(data.shape)\n",
    "# display the array of pixels as an image\n",
    "pyplot.imshow(data)\n",
    "pyplot.show()"
   ]
  },
  {
   "cell_type": "code",
   "execution_count": null,
   "metadata": {},
   "outputs": [],
   "source": []
  },
  {
   "cell_type": "code",
   "execution_count": null,
   "metadata": {
    "ExecuteTime": {
     "end_time": "2020-02-17T07:02:56.255513Z",
     "start_time": "2020-02-17T07:02:53.849868Z"
    }
   },
   "outputs": [],
   "source": [
    "# load image and convert to and from NumPy array\n",
    "from PIL import Image\n",
    "from numpy import asarray\n",
    "# load the image\n",
    "image = Image.open(r'C:\\Users\\Rahul\\Desktop\\Capstone\\OCR\\results\\1\\1 img 9.jpg')\n",
    "# convert image to numpy array\n",
    "data = asarray(image)\n",
    "# summarize shape\n",
    "print(data.shape)\n",
    "# create Pillow image\n",
    "image2 = Image.fromarray(data)\n",
    "# summarize image details\n",
    "print(image2.format)\n",
    "print(image2.mode)\n",
    "print(image2.size)"
   ]
  },
  {
   "cell_type": "code",
   "execution_count": null,
   "metadata": {
    "ExecuteTime": {
     "end_time": "2020-02-17T07:03:02.364076Z",
     "start_time": "2020-02-17T07:03:02.333172Z"
    }
   },
   "outputs": [],
   "source": [
    "data"
   ]
  },
  {
   "cell_type": "code",
   "execution_count": null,
   "metadata": {
    "ExecuteTime": {
     "end_time": "2020-02-17T07:00:33.980753Z",
     "start_time": "2020-02-17T07:00:33.965578Z"
    }
   },
   "outputs": [],
   "source": [
    "import numpy as np"
   ]
  },
  {
   "cell_type": "code",
   "execution_count": null,
   "metadata": {
    "ExecuteTime": {
     "end_time": "2020-02-17T07:55:19.001321Z",
     "start_time": "2020-02-17T07:55:18.985706Z"
    }
   },
   "outputs": [],
   "source": [
    "df.shape"
   ]
  },
  {
   "cell_type": "code",
   "execution_count": null,
   "metadata": {
    "ExecuteTime": {
     "end_time": "2020-02-17T07:55:51.304931Z",
     "start_time": "2020-02-17T07:55:51.164064Z"
    }
   },
   "outputs": [],
   "source": [
    "import pandas as pd\n",
    "import numpy as np\n",
    "from PIL import Image\n",
    "from matplotlib.pyplot import imshow\n",
    "import math\n",
    "\n",
    "i = 372449 # set any valid index of an image\n",
    "label = df.values[i][0] # retrieve label from first colum in dataframe\n",
    "im_buf = df.values[i][1:] # create flat array of only the pixels of the given image \n",
    "axis_len = int(math.sqrt(im_buf.shape[0])) # calculate the dimensions of the square image\n",
    "im_array = np.int8(np.reshape(im_buf, (axis_len, axis_len))) # create a 2D array from flat array\n",
    "img = Image.fromarray(im_array, 'L') # convert to a PIL.Image object ('L' is for grayscale)\n",
    "\n",
    "print(f'Label: {label}')\n",
    "imshow(np.asarray(img))"
   ]
  },
  {
   "cell_type": "code",
   "execution_count": null,
   "metadata": {
    "ExecuteTime": {
     "end_time": "2020-02-17T07:52:20.784411Z",
     "start_time": "2020-02-17T07:52:19.801393Z"
    }
   },
   "outputs": [],
   "source": [
    "from PIL import Image\n",
    "from numpy import asarray\n",
    "\n",
    "image2 = Image.fromarray(two)\n",
    "# summarize image details\n",
    "print(image2.format)\n",
    "print(image2.mode)\n",
    "print(image2.size)"
   ]
  },
  {
   "cell_type": "code",
   "execution_count": null,
   "metadata": {
    "ExecuteTime": {
     "end_time": "2020-02-19T03:19:07.607759Z",
     "start_time": "2020-02-19T03:19:07.595737Z"
    }
   },
   "outputs": [],
   "source": [
    "# resize image and force a new shape\n",
    "from PIL import Image\n",
    "# load the image\n",
    "image = Image.open(r'C:\\Users\\Rahul\\Desktop\\Capstone\\OCR\\data\\model\\test\\test_letters\\A\\1 img 43.jpg')\n",
    "# report the size of the image\n",
    "print(image.size)\n",
    "# resize image and ignore original aspect ratio\n",
    "img_resized = image.resize((28,28))\n",
    "# report the size of the thumbnail\n",
    "print(img_resized.size)"
   ]
  },
  {
   "cell_type": "code",
   "execution_count": null,
   "metadata": {
    "ExecuteTime": {
     "end_time": "2020-02-17T07:50:18.699436Z",
     "start_time": "2020-02-17T07:50:11.885257Z"
    }
   },
   "outputs": [],
   "source": [
    "pyplot.imshow(img_resized)"
   ]
  },
  {
   "cell_type": "code",
   "execution_count": null,
   "metadata": {
    "ExecuteTime": {
     "end_time": "2020-02-17T09:32:10.749717Z",
     "start_time": "2020-02-17T09:32:10.046726Z"
    }
   },
   "outputs": [],
   "source": [
    "import gzip\n",
    "f = gzip.open(r'C:\\Users\\Rahul\\Desktop\\Capstone\\gzip\\emnist-balanced-train-images-idx3-ubyte.gz','r')\n",
    "\n",
    "image_size = 28\n",
    "num_images = 112800\n",
    "\n",
    "import numpy as np\n",
    "f.read(16)\n",
    "buf = f.read(image_size * image_size * num_images)\n",
    "data = np.frombuffer(buf, dtype=np.uint8).astype(np.float32)\n",
    "data = data.reshape(num_images, image_size, image_size, 1)"
   ]
  },
  {
   "cell_type": "code",
   "execution_count": null,
   "metadata": {
    "ExecuteTime": {
     "end_time": "2020-02-17T09:32:27.455869Z",
     "start_time": "2020-02-17T09:32:27.330885Z"
    }
   },
   "outputs": [],
   "source": [
    "import matplotlib.pyplot as plt\n",
    "image = np.asarray(data[700]).squeeze()\n",
    "plt.imshow(image)\n",
    "plt.show()"
   ]
  },
  {
   "cell_type": "code",
   "execution_count": null,
   "metadata": {
    "ExecuteTime": {
     "end_time": "2020-02-17T09:32:44.179876Z",
     "start_time": "2020-02-17T09:32:44.148675Z"
    }
   },
   "outputs": [],
   "source": [
    "#Print first 10 labels\n",
    "\n",
    "f = gzip.open(r'C:\\Users\\Rahul\\Desktop\\Capstone\\gzip\\emnist-balanced-train-labels-idx1-ubyte.gz','r')\n",
    "f.read(8)\n",
    "for i in range(0,10):   \n",
    "    buf = f.read(1)\n",
    "    labels = np.frombuffer(buf, dtype=np.uint8).astype(np.int64)\n",
    "    print(labels)"
   ]
  },
  {
   "cell_type": "code",
   "execution_count": null,
   "metadata": {},
   "outputs": [],
   "source": []
  },
  {
   "cell_type": "code",
   "execution_count": null,
   "metadata": {
    "ExecuteTime": {
     "end_time": "2020-02-17T09:26:20.643287Z",
     "start_time": "2020-02-17T09:26:17.706650Z"
    }
   },
   "outputs": [],
   "source": [
    "from tensorflow.contrib.learn.python.learn.datasets.mnist import extract_images, extract_labels\n",
    "\n",
    "with open('C:\\\\Users\\\\Rahul\\\\Desktop\\\\Capstone\\\\eminst\\\\emnist-byclass-train-images-idx3-ubyte.gz', 'rb') as f:\n",
    "     train_images = extract_images(f)\n",
    "with open(\"C:\\\\Users\\\\Rahul\\\\Desktop\\\\Capstone\\\\eminst\\\\emnist-byclass-train-labels-idx1-ubyte.gz\", 'rb') as f:\n",
    "    train_labels = extract_labels(f)\n",
    "\n",
    "# with open('my/directory/t10k-images-idx3-ubyte.gz', 'rb') as f:\n",
    "#     test_images = extract_images(f)\n",
    "# with open('my/directory/t10k-labels-idx1-ubyte.gz', 'rb') as f:\n",
    "#     test_labels = extract_labels(f)"
   ]
  },
  {
   "cell_type": "code",
   "execution_count": null,
   "metadata": {
    "ExecuteTime": {
     "end_time": "2020-02-17T09:25:51.153933Z",
     "start_time": "2020-02-17T09:25:51.138303Z"
    }
   },
   "outputs": [],
   "source": [
    "len(train_labels)"
   ]
  },
  {
   "cell_type": "code",
   "execution_count": null,
   "metadata": {
    "ExecuteTime": {
     "end_time": "2020-02-17T09:26:33.695424Z",
     "start_time": "2020-02-17T09:26:33.679841Z"
    }
   },
   "outputs": [],
   "source": [
    "len(train_images)"
   ]
  },
  {
   "cell_type": "code",
   "execution_count": null,
   "metadata": {
    "ExecuteTime": {
     "end_time": "2020-02-17T09:28:54.579555Z",
     "start_time": "2020-02-17T09:28:54.423132Z"
    }
   },
   "outputs": [],
   "source": [
    "plt.imshow(train_images[1050].reshape(28,28))"
   ]
  },
  {
   "cell_type": "code",
   "execution_count": null,
   "metadata": {
    "ExecuteTime": {
     "end_time": "2020-02-17T09:38:56.980923Z",
     "start_time": "2020-02-17T09:38:55.887434Z"
    }
   },
   "outputs": [],
   "source": [
    "from tensorflow.contrib.learn.python.learn.datasets.mnist import extract_images, extract_labels\n",
    "\n",
    "with open('C:\\\\Users\\\\Rahul\\\\Desktop\\\\Capstone\\\\gzip\\\\emnist-digits-train-images-idx3-ubyte.gz', 'rb') as f:\n",
    "     train_images = extract_images(f)\n",
    "with open(\"C:\\\\Users\\\\Rahul\\\\Desktop\\\\Capstone\\\\gzip\\\\emnist-digits-train-labels-idx1-ubyte.gz\", 'rb') as f:\n",
    "    train_labels = extract_labels(f)\n",
    "\n",
    "#plt.imshow(train_images[20000].reshape(28,28))\n",
    "# with open('my/directory/t10k-images-idx3-ubyte.gz', 'rb') as f:\n",
    "#     test_images = extract_images(f)\n",
    "# with open('my/directory/t10k-labels-idx1-ubyte.gz', 'rb') as f:\n",
    "#     test_labels = extract_labels(f)"
   ]
  },
  {
   "cell_type": "code",
   "execution_count": null,
   "metadata": {
    "ExecuteTime": {
     "end_time": "2020-02-17T09:41:55.487349Z",
     "start_time": "2020-02-17T09:41:55.315516Z"
    }
   },
   "outputs": [],
   "source": [
    "plt.imshow(train_images[80000].reshape(28,28))"
   ]
  },
  {
   "cell_type": "code",
   "execution_count": null,
   "metadata": {
    "ExecuteTime": {
     "end_time": "2020-02-17T09:41:58.364864Z",
     "start_time": "2020-02-17T09:41:58.349243Z"
    }
   },
   "outputs": [],
   "source": [
    "train_labels[80000]"
   ]
  },
  {
   "cell_type": "code",
   "execution_count": null,
   "metadata": {},
   "outputs": [],
   "source": []
  },
  {
   "cell_type": "code",
   "execution_count": null,
   "metadata": {
    "ExecuteTime": {
     "end_time": "2020-02-27T14:06:43.999661Z",
     "start_time": "2020-02-27T14:06:43.968866Z"
    }
   },
   "outputs": [],
   "source": [
    "letters=[]\n",
    "from PIL import Image\n",
    "for i in range(65,91):\n",
    "    letters.append(chr(i))"
   ]
  },
  {
   "cell_type": "code",
   "execution_count": null,
   "metadata": {
    "ExecuteTime": {
     "end_time": "2020-02-27T14:11:52.190926Z",
     "start_time": "2020-02-27T14:11:52.159726Z"
    }
   },
   "outputs": [],
   "source": [
    "#DataFlair - Load the data and extract features for each sound file\n",
    "def thresh_data_letters(read_path,target_path):\n",
    "    import os\n",
    "    import glob\n",
    "    import shutil\n",
    "    import cv2\n",
    "    for folder in range(0,26):\n",
    "        tar_dir=target_path+\"\\\\\"+letters[folder]+\"\\\\\"\n",
    "        if not os.path.exists(tar_dir):\n",
    "            os.makedirs(tar_dir) \n",
    "    for folder in range(0,26):\n",
    "        count=0\n",
    "        curr_dir=read_path+\"\\\\\"+letters[folder]\n",
    "        tar_dir=target_path+\"\\\\\"+letters[folder]+\"\\\\\"\n",
    "        for file in glob.glob(curr_dir+\"\\\\*.png\"):\n",
    "            count+=1\n",
    "            img = cv2.imread(file, 0)\n",
    "            img=img[26:-26,26:-26]\n",
    "            ret, thresh = cv2.threshold(img, 100, 255, cv2.THRESH_OTSU)\n",
    "            thresh = thresh.resize((64,64))\n",
    "            cv2.imwrite(tar_dir+str(count)+\".png\",thresh)"
   ]
  },
  {
   "cell_type": "code",
   "execution_count": null,
   "metadata": {
    "ExecuteTime": {
     "end_time": "2020-02-27T14:11:53.346904Z",
     "start_time": "2020-02-27T14:11:52.940750Z"
    }
   },
   "outputs": [],
   "source": [
    "thresh_data_letters(r\"C:\\Users\\Rahul\\Desktop\\Capstone\\OCR\\data\\model\\train\\train_letters\",\n",
    "          r\"C:\\Users\\Rahul\\Desktop\\Capstone\\OCR\\data\\model\\train\\train_letters_thresh\")"
   ]
  },
  {
   "cell_type": "code",
   "execution_count": null,
   "metadata": {
    "ExecuteTime": {
     "end_time": "2020-02-29T19:11:28.649125Z",
     "start_time": "2020-02-29T19:11:28.571016Z"
    }
   },
   "outputs": [],
   "source": [
    "letters=[]\n",
    "from PIL import Image\n",
    "for i in range(65,91):\n",
    "    letters.append(chr(i))"
   ]
  },
  {
   "cell_type": "code",
   "execution_count": null,
   "metadata": {
    "ExecuteTime": {
     "end_time": "2020-02-29T19:18:44.796238Z",
     "start_time": "2020-02-29T19:18:44.781254Z"
    }
   },
   "outputs": [],
   "source": [
    "# test data\n",
    "def thresh_data_letters(read_path,target_path):\n",
    "    import os\n",
    "    import glob\n",
    "    import shutil\n",
    "    import cv2\n",
    "    for folder in range(0,26):\n",
    "        tar_dir=target_path+\"\\\\\"+letters[folder]+\"\\\\\"\n",
    "        if not os.path.exists(tar_dir):\n",
    "            os.makedirs(tar_dir) \n",
    "    for folder in range(0,26):\n",
    "        count=0\n",
    "        curr_dir=read_path+\"\\\\\"+letters[folder]\n",
    "        tar_dir=target_path+\"\\\\\"+letters[folder]+\"\\\\\"\n",
    "        for file in glob.glob(curr_dir+\"\\\\*.jpg\"):\n",
    "            count+=1\n",
    "            if count <=1000:\n",
    "                image = Image.open(file)\n",
    "                image = image.crop((3, 2, image.size[0]-4, image.size[0]-2))     # im.crop((left, top, right, bottom)) \n",
    "                img_resized = image.resize((64,64))\n",
    "                threshold = 70\n",
    "                im = img_resized.point(lambda p: p > threshold and 255)\n",
    "                im = im.save(tar_dir+str(count)+\".jpg\")\n",
    "            else:\n",
    "                break\n"
   ]
  },
  {
   "cell_type": "code",
   "execution_count": null,
   "metadata": {
    "ExecuteTime": {
     "end_time": "2020-02-29T19:19:01.177860Z",
     "start_time": "2020-02-29T19:18:46.933795Z"
    }
   },
   "outputs": [],
   "source": [
    "thresh_data_letters(r\"C:\\Users\\Rahul\\Desktop\\Capstone\\OCR\\data\\model\\test\\test_letters\",\n",
    "          r\"C:\\Users\\Rahul\\Desktop\\Capstone\\OCR\\data\\model\\test\\test_letters_thresh\")"
   ]
  },
  {
   "cell_type": "code",
   "execution_count": null,
   "metadata": {
    "ExecuteTime": {
     "end_time": "2020-02-29T18:48:48.860392Z",
     "start_time": "2020-02-29T18:48:48.844774Z"
    }
   },
   "outputs": [],
   "source": [
    "# train data\n",
    "def thresh_data_letters(read_path,target_path):\n",
    "    import os\n",
    "    import glob\n",
    "    import shutil\n",
    "    import cv2\n",
    "    for folder in range(0,26):\n",
    "        tar_dir=target_path+\"\\\\\"+letters[folder]+\"\\\\\"\n",
    "        if not os.path.exists(tar_dir):\n",
    "            os.makedirs(tar_dir) \n",
    "    for folder in range(0,26):\n",
    "        count=0\n",
    "        curr_dir=read_path+\"\\\\\"+letters[folder]\n",
    "        tar_dir=target_path+\"\\\\\"+letters[folder]+\"\\\\\"\n",
    "        for file in glob.glob(curr_dir+\"\\\\*.png\"):\n",
    "            count+=1\n",
    "            if count <=2500:\n",
    "                image = Image.open(file)\n",
    "                image = image.crop((23, 23, image.size[0]-23, image.size[0]-23))     # im.crop((left, top, right, bottom)) \n",
    "                img_resized = image.resize((64,64))\n",
    "                threshold = 100\n",
    "                im = img_resized.point(lambda p: p > threshold and 255)\n",
    "                im = im.save(tar_dir+str(count)+\".jpg\")\n",
    "            else:\n",
    "                break"
   ]
  },
  {
   "cell_type": "code",
   "execution_count": null,
   "metadata": {
    "ExecuteTime": {
     "end_time": "2020-02-29T18:51:53.281198Z",
     "start_time": "2020-02-29T18:49:11.820834Z"
    }
   },
   "outputs": [],
   "source": [
    "# train data\n",
    "\n",
    "thresh_data_letters(r\"C:\\Users\\Rahul\\Desktop\\Capstone\\OCR\\data\\model\\train\\train_letters_2500\",\n",
    "          r\"C:\\Users\\Rahul\\Desktop\\Capstone\\OCR\\data\\model\\train\\train_letters_thresh_2500\")"
   ]
  },
  {
   "cell_type": "code",
   "execution_count": null,
   "metadata": {
    "ExecuteTime": {
     "end_time": "2020-02-28T14:43:24.040655Z",
     "start_time": "2020-02-28T14:43:24.009413Z"
    }
   },
   "outputs": [],
   "source": [
    "# train data\n",
    "def thresh_data_digits(read_path,target_path):\n",
    "    from PIL import Image\n",
    "    import os\n",
    "    import glob\n",
    "    import shutil\n",
    "    import cv2\n",
    "    for folder in range(0,10):\n",
    "        tar_dir=target_path+\"\\\\\"+str(folder)+\"\\\\\"\n",
    "        if not os.path.exists(tar_dir):\n",
    "            os.makedirs(tar_dir) \n",
    "    for folder in range(0,10):\n",
    "        count=0\n",
    "        curr_dir=read_path+\"\\\\\"+str(folder)\n",
    "        tar_dir=target_path+\"\\\\\"+str(folder)+\"\\\\\"\n",
    "        for file in glob.glob(curr_dir+\"\\\\*.png\"):\n",
    "            count+=1\n",
    "#             if count <= 1000:\n",
    "#                 continue\n",
    "            if count <=1000:\n",
    "                image = Image.open(file)\n",
    "                image = image.crop((30, 30, image.size[0]-30, image.size[0]-30))     # im.crop((left, top, right, bottom)) \n",
    "                img_resized = image.resize((64,64))\n",
    "                threshold = 100\n",
    "                im = img_resized.point(lambda p: p > threshold and 255)\n",
    "                im = im.save(tar_dir+str(count)+\".jpg\")\n",
    "            else:\n",
    "                break"
   ]
  },
  {
   "cell_type": "code",
   "execution_count": null,
   "metadata": {
    "ExecuteTime": {
     "end_time": "2020-02-28T14:43:43.535924Z",
     "start_time": "2020-02-28T14:43:25.149740Z"
    }
   },
   "outputs": [],
   "source": [
    "# train data\n",
    "\n",
    "thresh_data_digits(r\"C:\\Users\\Rahul\\Desktop\\Capstone\\OCR\\data\\model\\train\\train_digits\",\n",
    "          r\"C:\\Users\\Rahul\\Desktop\\Capstone\\OCR\\data\\model\\train\\train_digits_thresh\")"
   ]
  },
  {
   "cell_type": "code",
   "execution_count": null,
   "metadata": {
    "ExecuteTime": {
     "end_time": "2020-02-28T17:49:56.167314Z",
     "start_time": "2020-02-28T17:49:56.144374Z"
    }
   },
   "outputs": [],
   "source": [
    "# test data\n",
    "def thresh_data_digits(read_path,target_path):\n",
    "    from PIL import Image\n",
    "    import os\n",
    "    import glob\n",
    "    import shutil\n",
    "    import cv2\n",
    "    for folder in range(0,10):\n",
    "        tar_dir=target_path+\"\\\\\"+str(folder)+\"\\\\\"\n",
    "        if not os.path.exists(tar_dir):\n",
    "            os.makedirs(tar_dir) \n",
    "    for folder in range(0,10):\n",
    "        count=0\n",
    "        curr_dir=read_path+\"\\\\\"+str(folder)\n",
    "        tar_dir=target_path+\"\\\\\"+str(folder)+\"\\\\\"\n",
    "        for file in glob.glob(curr_dir+\"\\\\*.jpg\"):\n",
    "            count+=1\n",
    "#             if count <= 1000:\n",
    "#                 continue\n",
    "            if count <=1000:\n",
    "                image = Image.open(file)\n",
    "                image = image.crop((3, 3, image.size[0]-3, image.size[0]-3))     # im.crop((left, top, right, bottom)) \n",
    "                img_resized = image.resize((64,64))\n",
    "                threshold = 75\n",
    "                im = img_resized.point(lambda p: p > threshold and 255)\n",
    "                im = im.save(tar_dir+str(count)+\".jpg\")\n",
    "            else:\n",
    "                break"
   ]
  },
  {
   "cell_type": "code",
   "execution_count": null,
   "metadata": {
    "ExecuteTime": {
     "end_time": "2020-02-28T17:50:04.927596Z",
     "start_time": "2020-02-28T17:49:56.185268Z"
    }
   },
   "outputs": [],
   "source": [
    "# test data\n",
    "\n",
    "thresh_data_digits(r\"C:\\Users\\Rahul\\Desktop\\Capstone\\OCR\\data\\model\\test\\test_digits\",\n",
    "          r\"C:\\Users\\Rahul\\Desktop\\Capstone\\OCR\\data\\model\\test\\test_digits_thresh\")"
   ]
  },
  {
   "cell_type": "code",
   "execution_count": null,
   "metadata": {},
   "outputs": [],
   "source": []
  },
  {
   "cell_type": "code",
   "execution_count": null,
   "metadata": {
    "ExecuteTime": {
     "end_time": "2020-02-27T15:14:25.359183Z",
     "start_time": "2020-02-27T15:14:25.343566Z"
    }
   },
   "outputs": [],
   "source": [
    "image = Image.open(r'C:\\Users\\Rahul\\Desktop\\Capstone\\OCR\\data\\model\\train\\train_letters\\A\\1.png')\n",
    "image.size[0]"
   ]
  },
  {
   "cell_type": "code",
   "execution_count": null,
   "metadata": {
    "ExecuteTime": {
     "end_time": "2020-02-27T13:46:13.309577Z",
     "start_time": "2020-02-27T13:46:13.293959Z"
    }
   },
   "outputs": [],
   "source": [
    "import cv2\n",
    "from PIL import Image\n",
    "import pandas as pd\n",
    "\n",
    "#Load the image in black and white (0 - b/w, 1 - color).\n",
    "img = cv2.imread(r'C:\\Users\\Rahul\\Desktop\\Capstone\\OCR\\data\\results1\\A\\5 img 43.jpg', 0)\n",
    "ret, thresh = cv2.threshold(img, 127, 255, cv2.THRESH_OTSU)"
   ]
  },
  {
   "cell_type": "code",
   "execution_count": null,
   "metadata": {},
   "outputs": [],
   "source": []
  },
  {
   "cell_type": "code",
   "execution_count": null,
   "metadata": {
    "ExecuteTime": {
     "end_time": "2020-02-27T14:36:18.855182Z",
     "start_time": "2020-02-27T14:36:18.776906Z"
    }
   },
   "outputs": [],
   "source": [
    "image = Image.open(r'C:\\Users\\Rahul\\Desktop\\Capstone\\OCR\\data\\model\\train\\train_letters\\A\\1.png')\n",
    "image = image.crop((26, 26, 102, 102)) \n",
    "img_resized = image.resize((64,64))\n",
    "\n",
    "\n",
    "#img = cv2.imread(plt.imshow(img_resized), 0)\n",
    "#ret, thresh = cv2.threshold(img, 100, 255, cv2.THRESH_BINARY)\n",
    "#cv2.imwrite(r'C:\\Users\\Rahul\\Desktop\\Capstone\\1.png',thresh)\n",
    "threshold = 100\n",
    "im = img_resized.point(lambda p: p > threshold and 255)\n",
    "\n",
    "def csvWriter(fil_name, nparray):\n",
    "    example = nparray.tolist()\n",
    "    with open(fil_name+'.csv', 'w', newline='') as csvfile:\n",
    "        writer = csv.writer(csvfile, delimiter=',')\n",
    "        writer.writerows(example)\n",
    "\n",
    "csvWriter(\"myfilename3\", np.array(im))\n",
    "\n",
    "\n",
    "# report the size of the image\n",
    "# m\n",
    "# print(image.size)\n",
    "# # resize image and ignore original aspect ratio\n",
    "# img_resized = image.resize((28,28))\n",
    "# # report the size of the thumbnail\n",
    "# print(img_resized.size)"
   ]
  },
  {
   "cell_type": "code",
   "execution_count": null,
   "metadata": {
    "ExecuteTime": {
     "end_time": "2020-02-27T14:44:02.558032Z",
     "start_time": "2020-02-27T14:44:02.402262Z"
    }
   },
   "outputs": [],
   "source": [
    "image = Image.open(r'C:\\Users\\Rahul\\Desktop\\Capstone\\OCR\\data\\model\\train\\train_letters\\A\\1.png')\n",
    "image = image.crop((26, 26, 102, 102)) \n",
    "img_resized = image.resize((64,64))\n",
    "\n",
    "\n",
    "#img = cv2.imread(plt.imshow(img_resized), 0)\n",
    "#ret, thresh = cv2.threshold(img, 100, 255, cv2.THRESH_BINARY)\n",
    "#cv2.imwrite(r'C:\\Users\\Rahul\\Desktop\\Capstone\\1.png',thresh)\n",
    "threshold = 100\n",
    "im = img_resized.point(lambda p: p > threshold and 255)\n",
    "im = im.save(\"geeks.jpg\")\n"
   ]
  },
  {
   "cell_type": "code",
   "execution_count": null,
   "metadata": {
    "ExecuteTime": {
     "end_time": "2020-02-27T14:17:05.786541Z",
     "start_time": "2020-02-27T14:17:05.755305Z"
    }
   },
   "outputs": [],
   "source": [
    "img = cv2.imread(r'C:\\Users\\Rahul\\Desktop\\Capstone\\OCR\\data\\model\\train\\train_letters\\A\\1.png', 0)\n",
    "img=img[26:-26,26:-26]\n",
    "ret, thresh = cv2.threshold(img, 100, 255, cv2.THRESH_BINARY)\n",
    "thresh = thresh.resize((64,64))\n",
    "\n",
    "def csvWriter(fil_name, nparray):\n",
    "    example = nparray.tolist()\n",
    "    with open(fil_name+'.csv', 'w', newline='') as csvfile:\n",
    "        writer = csv.writer(csvfile, delimiter=',')\n",
    "        writer.writerows(example)\n",
    "\n",
    "csvWriter(\"myfilename3\", thresh)\n",
    "#plt.savefig(thresh.png)"
   ]
  },
  {
   "cell_type": "code",
   "execution_count": null,
   "metadata": {
    "ExecuteTime": {
     "end_time": "2020-02-27T13:46:46.816670Z",
     "start_time": "2020-02-27T13:46:46.598380Z"
    }
   },
   "outputs": [],
   "source": [
    "import matplotlib.pyplot as plt\n",
    "thresh2=thresh[3:-3,3:-3]\n",
    "plt.imshow(thresh2)\n",
    "plt.show()"
   ]
  },
  {
   "cell_type": "code",
   "execution_count": null,
   "metadata": {
    "ExecuteTime": {
     "end_time": "2020-02-27T13:36:21.300470Z",
     "start_time": "2020-02-27T13:36:21.269680Z"
    }
   },
   "outputs": [],
   "source": [
    "img = np.array(thresh)"
   ]
  },
  {
   "cell_type": "code",
   "execution_count": null,
   "metadata": {
    "ExecuteTime": {
     "end_time": "2020-02-27T13:36:25.002723Z",
     "start_time": "2020-02-27T13:36:24.971481Z"
    }
   },
   "outputs": [],
   "source": [
    "import csv\n",
    "\n",
    "def csvWriter(fil_name, nparray):\n",
    "    example = nparray.tolist()\n",
    "    with open(fil_name+'.csv', 'w', newline='') as csvfile:\n",
    "        writer = csv.writer(csvfile, delimiter=',')\n",
    "        writer.writerows(example)\n",
    "\n",
    "csvWriter(\"myfilename3\", img)"
   ]
  },
  {
   "cell_type": "code",
   "execution_count": null,
   "metadata": {
    "ExecuteTime": {
     "end_time": "2020-02-29T19:34:04.204619Z",
     "start_time": "2020-02-29T19:33:56.666179Z"
    }
   },
   "outputs": [],
   "source": [
    "import pandas as pd\n",
    "from PIL import Image\n",
    "import numpy as np\n",
    "from scipy.stats import mode"
   ]
  },
  {
   "cell_type": "code",
   "execution_count": null,
   "metadata": {
    "ExecuteTime": {
     "end_time": "2020-02-29T19:43:01.855827Z",
     "start_time": "2020-02-29T19:43:01.827648Z"
    }
   },
   "outputs": [],
   "source": [
    "img_file = Image.open(r\"C:\\Users\\Rahul\\Desktop\\Capstone\\OCR\\data\\model\\test\\test_letters_thresh\\A\\37.jpg\")\n",
    "threshold = 127\n",
    "img_file = img_file.point(lambda p: p > threshold and 255)\n",
    "value = np.asarray(img_file.getdata(), dtype=np.int).reshape((img_file.size[1], img_file.size[0]))\n",
    "value = value.flatten()\n",
    "# if mode(value[0:64])[0] < 40:\n",
    "#     value[0:64]=0\n",
    "# if mode(value[-64:])[0] < 40:\n",
    "#     value[-64:]=0\n",
    "# value=np.insert(value,0,65)\n",
    "value"
   ]
  },
  {
   "cell_type": "code",
   "execution_count": null,
   "metadata": {
    "ExecuteTime": {
     "end_time": "2020-02-29T19:43:39.710366Z",
     "start_time": "2020-02-29T19:43:39.579010Z"
    }
   },
   "outputs": [],
   "source": [
    "mode(value[0:64])[0]==0 and mode(value[0:64])[1]< 40"
   ]
  },
  {
   "cell_type": "code",
   "execution_count": null,
   "metadata": {
    "ExecuteTime": {
     "end_time": "2020-03-02T06:52:48.201586Z",
     "start_time": "2020-03-02T06:48:19.337437Z"
    }
   },
   "outputs": [],
   "source": [
    "# test_letters_thresh\n",
    "\n",
    "from scipy.stats import mode\n",
    "import pandas as pd\n",
    "from PIL import Image\n",
    "import numpy as np\n",
    "import sys\n",
    "import os\n",
    "import csv\n",
    "\n",
    "columnNames=[]\n",
    "for i in range (0,4097):\n",
    "    columnNames.append(i)\n",
    "data=pd.DataFrame(columns = columnNames)\n",
    "num_images=1\n",
    "\n",
    "#Useful function\n",
    "def createFileList(myDir, format='.jpg'):\n",
    "    count=65\n",
    "    fileList = []\n",
    "    labels=[]\n",
    "    #print(myDir)\n",
    "    for root, dirs, files in os.walk(myDir, topdown=False):\n",
    "        for name in files:\n",
    "            if name.endswith(format):\n",
    "                fullName = os.path.join(root, name)\n",
    "                fileList.append(fullName)\n",
    "                labels.append(count)\n",
    "        count+=1\n",
    "    return (fileList,labels)\n",
    "\n",
    "# load the original image\n",
    "myFileList,labels = createFileList(r'C:\\Users\\Rahul\\Desktop\\Capstone\\OCR\\data\\by varishu\\letters\\\\')\n",
    "\n",
    "count1=0\n",
    "for file in myFileList:\n",
    "    print(file)\n",
    "    img_file = Image.open(file)\n",
    "    img_file = img_file.resize((64,64))\n",
    "    \n",
    "    threshold = 127\n",
    "    img_file = img_file.point(lambda p: p > threshold and 255)\n",
    "    \n",
    "    # img_file.show()\n",
    "\n",
    "#     # get original image parameters...\n",
    "#     width, height = img_file.size\n",
    "#     format = img_file.format\n",
    "#     mode = img_file.mode\n",
    "\n",
    "#     # Make image Greyscale\n",
    "#     img_grey = img_file.convert('L')\n",
    "    #img_grey.save('result.png')\n",
    "    #img_grey.show()\n",
    "\n",
    "    # Save Greyscale values\n",
    "    value = np.asarray(img_file.getdata(), dtype=np.int).reshape((img_file.size[1], img_file.size[0]))\n",
    "    value = value.flatten()\n",
    "    \n",
    "    if (mode(value[0:64])[0]==255):\n",
    "        value[0:64]=0\n",
    "    if (mode(value[-64:])[0]==255):\n",
    "        value[-64:]=0\n",
    "    \n",
    "    \n",
    "    value=np.insert(value,0,labels[count1])   \n",
    "    data.loc[num_images] = value\n",
    "    num_images += 1\n",
    "    count1+=1\n",
    "# #     print(value)\n",
    "# #     with open(\"img_pixels.csv\", 'a') as f:\n",
    "# #         writer = csv.writer(f)\n",
    "# #         writer.writerow(value)\n",
    "data.to_csv(\"train_converted_letters_varishu.csv\", index=False)"
   ]
  },
  {
   "cell_type": "code",
   "execution_count": null,
   "metadata": {
    "ExecuteTime": {
     "end_time": "2020-03-02T06:40:04.334224Z",
     "start_time": "2020-03-02T06:05:20.892341Z"
    }
   },
   "outputs": [],
   "source": [
    "# test_letters_thresh\n",
    "\n",
    "from scipy.stats import mode\n",
    "import pandas as pd\n",
    "from PIL import Image\n",
    "import numpy as np\n",
    "import sys\n",
    "import os\n",
    "import csv\n",
    "\n",
    "columnNames=[]\n",
    "for i in range (0,4097):\n",
    "    columnNames.append(i)\n",
    "data=pd.DataFrame(columns = columnNames)\n",
    "num_images=1\n",
    "\n",
    "#Useful function\n",
    "def createFileList(myDir, format='.jpg'):\n",
    "    count=65\n",
    "    fileList = []\n",
    "    labels=[]\n",
    "    #print(myDir)\n",
    "    for root, dirs, files in os.walk(myDir, topdown=False):\n",
    "        for name in files:\n",
    "            if name.endswith(format):\n",
    "                fullName = os.path.join(root, name)\n",
    "                fileList.append(fullName)\n",
    "                labels.append(count)\n",
    "        count+=1\n",
    "    return (fileList,labels)\n",
    "\n",
    "# load the original image\n",
    "myFileList,labels = createFileList(r'C:\\Users\\Rahul\\Desktop\\Capstone\\OCR\\data\\model\\test\\test_letters_thresh')\n",
    "\n",
    "count1=0\n",
    "for file in myFileList:\n",
    "    print(file)\n",
    "    img_file = Image.open(file)\n",
    "    img_file = img_file.resize((64,64))\n",
    "    \n",
    "    threshold = 127\n",
    "    img_file = img_file.point(lambda p: p > threshold and 255)\n",
    "    \n",
    "    # img_file.show()\n",
    "\n",
    "#     # get original image parameters...\n",
    "#     width, height = img_file.size\n",
    "#     format = img_file.format\n",
    "#     mode = img_file.mode\n",
    "\n",
    "#     # Make image Greyscale\n",
    "#     img_grey = img_file.convert('L')\n",
    "    #img_grey.save('result.png')\n",
    "    #img_grey.show()\n",
    "\n",
    "    # Save Greyscale values\n",
    "    value = np.asarray(img_file.getdata(), dtype=np.int).reshape((img_file.size[1], img_file.size[0]))\n",
    "    value = value.flatten()\n",
    "    \n",
    "    if (mode(value[0:64])[0]==255):\n",
    "        value[0:64]=0\n",
    "    if (mode(value[-64:])[0]==255):\n",
    "        value[-64:]=0\n",
    "    \n",
    "    \n",
    "    value=np.insert(value,0,labels[count1])   \n",
    "    data.loc[num_images] = value\n",
    "    num_images += 1\n",
    "    count1+=1\n",
    "# #     print(value)\n",
    "# #     with open(\"img_pixels.csv\", 'a') as f:\n",
    "# #         writer = csv.writer(f)\n",
    "# #         writer.writerow(value)\n",
    "data.to_csv(\"test_converted_letters.csv\", index=False)"
   ]
  },
  {
   "cell_type": "code",
   "execution_count": null,
   "metadata": {
    "ExecuteTime": {
     "end_time": "2020-03-02T06:56:25.299049Z",
     "start_time": "2020-03-02T06:55:42.413243Z"
    }
   },
   "outputs": [],
   "source": [
    "df_train1=pd.read_csv(\"train_converted_letters_2500_final.csv\")"
   ]
  },
  {
   "cell_type": "code",
   "execution_count": null,
   "metadata": {
    "ExecuteTime": {
     "end_time": "2020-03-02T07:02:07.146243Z",
     "start_time": "2020-03-02T07:02:04.522121Z"
    }
   },
   "outputs": [],
   "source": [
    "df_train2=pd.read_csv(\"train_converted_letters_varishu.csv\")"
   ]
  },
  {
   "cell_type": "code",
   "execution_count": null,
   "metadata": {
    "ExecuteTime": {
     "end_time": "2020-03-02T07:02:08.724004Z",
     "start_time": "2020-03-02T07:02:08.708382Z"
    }
   },
   "outputs": [],
   "source": [
    "df_train1.shape"
   ]
  },
  {
   "cell_type": "code",
   "execution_count": null,
   "metadata": {
    "ExecuteTime": {
     "end_time": "2020-03-02T07:02:10.177031Z",
     "start_time": "2020-03-02T07:02:10.161466Z"
    }
   },
   "outputs": [],
   "source": [
    "df_train2.shape"
   ]
  },
  {
   "cell_type": "code",
   "execution_count": null,
   "metadata": {
    "ExecuteTime": {
     "end_time": "2020-03-02T07:07:26.464470Z",
     "start_time": "2020-03-02T07:02:23.434125Z"
    }
   },
   "outputs": [],
   "source": [
    "df2=pd.concat([df_train1,df_train2])\n",
    "df2.to_csv(\"train_converted_letters_2500.csv\", index=False)"
   ]
  },
  {
   "cell_type": "code",
   "execution_count": null,
   "metadata": {},
   "outputs": [],
   "source": []
  }
 ],
 "metadata": {
  "kernelspec": {
   "display_name": "Python 3",
   "language": "python",
   "name": "python3"
  },
  "language_info": {
   "codemirror_mode": {
    "name": "ipython",
    "version": 3
   },
   "file_extension": ".py",
   "mimetype": "text/x-python",
   "name": "python",
   "nbconvert_exporter": "python",
   "pygments_lexer": "ipython3",
   "version": "3.7.4"
  },
  "varInspector": {
   "cols": {
    "lenName": 16,
    "lenType": 16,
    "lenVar": 40
   },
   "kernels_config": {
    "python": {
     "delete_cmd_postfix": "",
     "delete_cmd_prefix": "del ",
     "library": "var_list.py",
     "varRefreshCmd": "print(var_dic_list())"
    },
    "r": {
     "delete_cmd_postfix": ") ",
     "delete_cmd_prefix": "rm(",
     "library": "var_list.r",
     "varRefreshCmd": "cat(var_dic_list()) "
    }
   },
   "position": {
    "height": "311.85px",
    "left": "996px",
    "right": "20px",
    "top": "120px",
    "width": "350px"
   },
   "types_to_exclude": [
    "module",
    "function",
    "builtin_function_or_method",
    "instance",
    "_Feature"
   ],
   "window_display": false
  }
 },
 "nbformat": 4,
 "nbformat_minor": 2
}
