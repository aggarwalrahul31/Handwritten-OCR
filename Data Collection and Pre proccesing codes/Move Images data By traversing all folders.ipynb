{
 "cells": [
  {
   "cell_type": "code",
   "execution_count": 1,
   "metadata": {
    "ExecuteTime": {
     "end_time": "2020-02-29T18:28:13.383647Z",
     "start_time": "2020-02-29T18:28:13.368133Z"
    }
   },
   "outputs": [],
   "source": [
    "letters=[]\n",
    "for i in range(65,91):\n",
    "    letters.append(chr(i))\n",
    "# letters"
   ]
  },
  {
   "cell_type": "code",
   "execution_count": 2,
   "metadata": {
    "ExecuteTime": {
     "end_time": "2020-02-29T18:28:19.769767Z",
     "start_time": "2020-02-29T18:28:19.738933Z"
    }
   },
   "outputs": [],
   "source": [
    "#DataFlair - Load the data and extract features for each sound file\n",
    "def move_data_letters(read_path,target_path):\n",
    "    import os\n",
    "    import glob\n",
    "    import shutil\n",
    "    import cv2\n",
    "    for folder in range(0,26):\n",
    "        tar_dir=target_path+\"\\\\\"+letters[folder]+\"\\\\\"\n",
    "        if not os.path.exists(tar_dir):\n",
    "            os.makedirs(tar_dir) \n",
    "    for folder in range(0,26):\n",
    "        count=0\n",
    "        curr_dir=read_path+\"\\\\\"+letters[folder]\n",
    "        tar_dir=target_path+\"\\\\\"+letters[folder]+\"\\\\\"\n",
    "        for file in glob.glob(curr_dir+\"\\\\train*\\\\*.png\"):\n",
    "            if(count<2500):\n",
    "                count+=1\n",
    "                img = cv2.imread(file, 0)\n",
    "                imgray = 255 - img\n",
    "                cv2.imwrite(tar_dir+str(count)+\".png\",imgray)\n",
    "            else:\n",
    "                break"
   ]
  },
  {
   "cell_type": "code",
   "execution_count": 3,
   "metadata": {
    "ExecuteTime": {
     "end_time": "2020-02-29T18:33:41.232689Z",
     "start_time": "2020-02-29T18:28:37.002185Z"
    }
   },
   "outputs": [],
   "source": [
    "move_data_letters(r\"C:\\Users\\Rahul\\Desktop\\Capstone\\OCR\\data\\class\",\n",
    "          r\"C:\\Users\\Rahul\\Desktop\\Capstone\\OCR\\data\\model\\train2500\")"
   ]
  },
  {
   "cell_type": "markdown",
   "metadata": {},
   "source": [
    "Ascii value <br>\n",
    "A-Z 65-90 <br>\n",
    "0-9 48-57"
   ]
  },
  {
   "cell_type": "code",
   "execution_count": 4,
   "metadata": {
    "ExecuteTime": {
     "end_time": "2020-02-18T12:48:23.624804Z",
     "start_time": "2020-02-18T12:48:23.593558Z"
    }
   },
   "outputs": [],
   "source": [
    "#DataFlair - Load the data and extract features for each sound file\n",
    "def move_data_digits(read_path,target_path):\n",
    "    import cv2\n",
    "    import os\n",
    "    import glob\n",
    "    import shutil\n",
    "    for folder in range(0,10):\n",
    "        tar_dir=target_path+\"\\\\\"+str(folder)+\"\\\\\"\n",
    "        if not os.path.exists(tar_dir):\n",
    "            os.makedirs(tar_dir) \n",
    "    for folder in range(0,10):\n",
    "        count=0\n",
    "        curr_dir=read_path+\"\\\\\"+str(folder)\n",
    "        tar_dir=target_path+\"\\\\\"+str(folder)+\"\\\\\"\n",
    "        for file in glob.glob(curr_dir+\"\\\\train*\\\\*.png\"):\n",
    "            if(count<1000):\n",
    "                count+=1\n",
    "                img = cv2.imread(file, 0)\n",
    "                imgray = 255 - img\n",
    "                cv2.imwrite(tar_dir+str(count)+\".png\",imgray)\n",
    "            else:\n",
    "                break"
   ]
  },
  {
   "cell_type": "code",
   "execution_count": 5,
   "metadata": {
    "ExecuteTime": {
     "end_time": "2020-02-18T12:53:26.556215Z",
     "start_time": "2020-02-18T12:48:23.646947Z"
    }
   },
   "outputs": [],
   "source": [
    "move_data_digits(r\"C:\\Users\\Rahul\\Desktop\\Capstone\\OCR\\data\\class\",\n",
    "          r\"C:\\Users\\Rahul\\Desktop\\Capstone\\OCR\\data\\model\\train\\train_digits1000\")"
   ]
  },
  {
   "cell_type": "code",
   "execution_count": null,
   "metadata": {},
   "outputs": [],
   "source": []
  }
 ],
 "metadata": {
  "kernelspec": {
   "display_name": "Python 3",
   "language": "python",
   "name": "python3"
  },
  "language_info": {
   "codemirror_mode": {
    "name": "ipython",
    "version": 3
   },
   "file_extension": ".py",
   "mimetype": "text/x-python",
   "name": "python",
   "nbconvert_exporter": "python",
   "pygments_lexer": "ipython3",
   "version": "3.7.4"
  },
  "varInspector": {
   "cols": {
    "lenName": 16,
    "lenType": 16,
    "lenVar": 40
   },
   "kernels_config": {
    "python": {
     "delete_cmd_postfix": "",
     "delete_cmd_prefix": "del ",
     "library": "var_list.py",
     "varRefreshCmd": "print(var_dic_list())"
    },
    "r": {
     "delete_cmd_postfix": ") ",
     "delete_cmd_prefix": "rm(",
     "library": "var_list.r",
     "varRefreshCmd": "cat(var_dic_list()) "
    }
   },
   "types_to_exclude": [
    "module",
    "function",
    "builtin_function_or_method",
    "instance",
    "_Feature"
   ],
   "window_display": false
  }
 },
 "nbformat": 4,
 "nbformat_minor": 2
}
