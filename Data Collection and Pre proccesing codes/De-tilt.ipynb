{
 "cells": [
  {
   "cell_type": "markdown",
   "metadata": {},
   "source": [
    "#### To check the angle of image using minarearect function and detilt image accordingly"
   ]
  },
  {
   "cell_type": "code",
   "execution_count": 24,
   "metadata": {
    "ExecuteTime": {
     "end_time": "2020-02-06T08:04:25.810417Z",
     "start_time": "2020-02-06T08:04:25.794800Z"
    }
   },
   "outputs": [],
   "source": [
    "import numpy as np\n",
    "import cv2 \n",
    "import matplotlib.pyplot as plt"
   ]
  },
  {
   "cell_type": "code",
   "execution_count": 27,
   "metadata": {
    "ExecuteTime": {
     "end_time": "2020-02-06T08:04:43.429951Z",
     "start_time": "2020-02-06T08:04:43.398748Z"
    }
   },
   "outputs": [],
   "source": [
    "image=cv2.imread(\"tilted_filled_temp.jpg\",0)\n",
    "gray = cv2.bitwise_not(image)\n",
    "thresh = cv2.threshold(gray, 0, 255,cv2.THRESH_BINARY | cv2.THRESH_OTSU)[1]\n",
    "\n",
    "coords = np.column_stack(np.where(thresh > 0))\n",
    "angle = cv2.minAreaRect(coords)[-1]\n",
    "\n",
    "if angle < -45:\n",
    "    angle = -(90 + angle)\n",
    "else:\n",
    "    angle = -(angle)"
   ]
  },
  {
   "cell_type": "code",
   "execution_count": 28,
   "metadata": {
    "ExecuteTime": {
     "end_time": "2020-02-06T08:04:43.947955Z",
     "start_time": "2020-02-06T08:04:43.916711Z"
    }
   },
   "outputs": [
    {
     "data": {
      "text/plain": [
       "True"
      ]
     },
     "execution_count": 28,
     "metadata": {},
     "output_type": "execute_result"
    }
   ],
   "source": [
    "(h, w) = image.shape[:2]\n",
    "center = (w // 2, h // 2)\n",
    "M = cv2.getRotationMatrix2D(center, angle, 1.0)\n",
    "rotated = cv2.warpAffine(image, M, (w, h),flags=cv2.INTER_CUBIC, borderMode=cv2.BORDER_REPLICATE)\n",
    "cv2.imwrite(\"out_Rotated.jpeg\", rotated)"
   ]
  },
  {
   "cell_type": "code",
   "execution_count": 23,
   "metadata": {
    "ExecuteTime": {
     "end_time": "2020-02-05T07:42:33.082283Z",
     "start_time": "2020-02-05T07:42:14.724127Z"
    }
   },
   "outputs": [
    {
     "name": "stdout",
     "output_type": "stream",
     "text": [
      "[INFO] angle: -0.000\n"
     ]
    }
   ],
   "source": [
    "cv2.putText(rotated, \"Angle: {:.2f} degrees\".format(angle),(10, 30), cv2.FONT_HERSHEY_SIMPLEX, 0.7, (0, 0, 255), 2)\n",
    " \n",
    "# show the output image\n",
    "print(\"[INFO] angle: {:.3f}\".format(angle))\n",
    "cv2.imshow(\"Input\", image)\n",
    "cv2.imshow(\"Rotated\", rotated)\n",
    "cv2.waitKey(0)\n",
    "cv2.destroyAllWindows()"
   ]
  },
  {
   "cell_type": "code",
   "execution_count": null,
   "metadata": {},
   "outputs": [],
   "source": []
  },
  {
   "cell_type": "markdown",
   "metadata": {},
   "source": [
    "#### Rotate and save images with a particular angle."
   ]
  },
  {
   "cell_type": "code",
   "execution_count": 15,
   "metadata": {
    "ExecuteTime": {
     "end_time": "2020-03-25T12:57:09.940249Z",
     "start_time": "2020-03-25T12:57:03.245303Z"
    }
   },
   "outputs": [],
   "source": [
    "import os\n",
    "import glob\n",
    "import shutil\n",
    "from PIL import Image\n",
    "    \n",
    "curr_dir = r\"C:\\Users\\Rahul\\Desktop\\Capstone\\OCR\\data\\results_20_2_sc\\X\\\\\"\n",
    "i=0\n",
    "for file in glob.glob(curr_dir+\"\\\\*.jpg\"):\n",
    "    i+=1\n",
    "    image = Image.open(file)\n",
    "    image1 = image.crop((3, 3, image.size[0]-3, image.size[0]-4))     # im.crop((left, top, right, bottom)) \n",
    "    img_resized1 = image1.resize((image1.size[0]+3,image1.size[0]+4)) \n",
    "    rotated1 = img_resized1.rotate(45)\n",
    "    rotated1.save(r\"C:\\Users\\Rahul\\Desktop\\Capstone\\OCR\\data\\results_20_2_sc\\Xsc\\\\\"+str(i)+\".jpg\")\n",
    "    i+=1\n",
    "    \n",
    "    image2 = image.crop((4, 4, image.size[0]-4, image.size[0]-5))     # im.crop((left, top, right, bottom)) \n",
    "    img_resized1 = image1.resize((image1.size[0]+4,image1.size[0]+5)) \n",
    "    rotated1 = img_resized1.rotate(45)\n",
    "    rotated1.save(r\"C:\\Users\\Rahul\\Desktop\\Capstone\\OCR\\data\\results_20_2_sc\\Xsc\\\\\"+str(i)+\".jpg\")\n"
   ]
  },
  {
   "cell_type": "code",
   "execution_count": null,
   "metadata": {},
   "outputs": [],
   "source": []
  }
 ],
 "metadata": {
  "kernelspec": {
   "display_name": "Python 3",
   "language": "python",
   "name": "python3"
  },
  "language_info": {
   "codemirror_mode": {
    "name": "ipython",
    "version": 3
   },
   "file_extension": ".py",
   "mimetype": "text/x-python",
   "name": "python",
   "nbconvert_exporter": "python",
   "pygments_lexer": "ipython3",
   "version": "3.7.4"
  },
  "varInspector": {
   "cols": {
    "lenName": 16,
    "lenType": 16,
    "lenVar": 40
   },
   "kernels_config": {
    "python": {
     "delete_cmd_postfix": "",
     "delete_cmd_prefix": "del ",
     "library": "var_list.py",
     "varRefreshCmd": "print(var_dic_list())"
    },
    "r": {
     "delete_cmd_postfix": ") ",
     "delete_cmd_prefix": "rm(",
     "library": "var_list.r",
     "varRefreshCmd": "cat(var_dic_list()) "
    }
   },
   "types_to_exclude": [
    "module",
    "function",
    "builtin_function_or_method",
    "instance",
    "_Feature"
   ],
   "window_display": false
  }
 },
 "nbformat": 4,
 "nbformat_minor": 2
}
