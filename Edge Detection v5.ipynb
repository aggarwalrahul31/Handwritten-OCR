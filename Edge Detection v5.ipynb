{
 "cells": [
  {
   "cell_type": "code",
   "execution_count": 7,
   "metadata": {
    "ExecuteTime": {
     "end_time": "2020-02-27T09:26:10.644688Z",
     "start_time": "2020-02-27T09:26:09.488429Z"
    }
   },
   "outputs": [],
   "source": [
    "from scipy.stats import mode\n",
    "import time\n",
    "import statistics\n",
    "import operator\n",
    "import cv2\n",
    "import numpy as np\n",
    "import pandas as pd\n",
    "import os \n",
    "import matplotlib.pyplot as plt\n",
    "%matplotlib inline"
   ]
  },
  {
   "cell_type": "code",
   "execution_count": 12,
   "metadata": {
    "ExecuteTime": {
     "end_time": "2020-02-27T09:35:07.744348Z",
     "start_time": "2020-02-27T09:35:07.697432Z"
    }
   },
   "outputs": [],
   "source": [
    "def get_data(read_path,filter_count=0,filter_type='m'):\n",
    "    \n",
    "    #Load the image in black and white (0 - b/w, 1 - color).\n",
    "    img = cv2.imread(read_path, 0)\n",
    "\n",
    "    #Get the height and width of the image.\n",
    "    h, w = img.shape[:2]\n",
    "\n",
    "    \n",
    "    #Invert the image to be white on black for compatibility with findContours function.\n",
    "    imgray = 255 - img\n",
    "    #ret, imgray = cv2.threshold(imgray, 80, 255, cv2.THRESH_BINARY_INV)\n",
    "    size=9+2*filter_count\n",
    "    if (filter_type=='m'):\n",
    "        thresh = cv2.adaptiveThreshold(imgray, 255, cv2.ADAPTIVE_THRESH_MEAN_C,cv2.THRESH_BINARY,size,2)\n",
    "    else:\n",
    "        thresh = cv2.adaptiveThreshold(imgray, 255, cv2.ADAPTIVE_THRESH_GAUSSIAN_C,cv2.THRESH_BINARY,size,2)\n",
    "\n",
    "    #Find all the contours in thresh. In your case the 3 and the additional strike\n",
    "    contours, hierarchy = cv2.findContours(thresh, cv2.RETR_LIST, cv2.CHAIN_APPROX_SIMPLE)\n",
    "    #Calculate bounding rectangles for each contour.\n",
    "    rects = [cv2.boundingRect(cnt) for cnt in contours]\n",
    "    #print(len(rects))\n",
    "    \n",
    "    rects2=[]\n",
    "    for i in rects:\n",
    "        if (i[2]>60 and i[3]>60):\n",
    "            rects2.append(i)\n",
    "        \n",
    "    #Calculate the combined bounding rectangle points.\n",
    "    top_x = min([x for (x, y, w, h) in rects2])\n",
    "    top_y = min([y for (x, y, w, h) in rects2])\n",
    "    bottom_x = max([x+w for (x, y, w, h) in rects2])\n",
    "    bottom_y = max([y+h for (x, y, w, h) in rects2])\n",
    "#     print(top_x)\n",
    "#     print(top_y)\n",
    "#     print(bottom_x)\n",
    "#     print(bottom_y)\n",
    "    \n",
    "    #h_mode = statistics.mode([h for (x, y, w, h) in rects2])\n",
    "    h_mode = mode([h for (x, y, w, h) in rects2])[0]\n",
    "    \n",
    "    #print(h_mode)\n",
    "    \n",
    "    n=int(((bottom_y-top_y)/int(h_mode)))\n",
    "    #gap=(bottom_y-top_y)-(h_mode*20)\n",
    "    #n=int(((bottom_y-top_y)-(gap))/h_mode)\n",
    "    #print('Mode',h_mode)\n",
    "    #print(n)\n",
    "    \n",
    "    temp=[]\n",
    "    b = [[] for i in range(0, n+1)]\n",
    "    for j in range (1,n+1):\n",
    "        for i in rects2:\n",
    "            x=i[0]\n",
    "            y=i[1]\n",
    "            w=i[2]\n",
    "            h=i[3]\n",
    "            if ((y > bottom_y-h_mode*j-h_mode/2) and (i not in temp)):\n",
    "                b[j].append(i)\n",
    "                temp.append(i)\n",
    "            b[j]=sorted(b[j],key=lambda x:(-x[0]))\n",
    "    return(imgray,b)"
   ]
  },
  {
   "cell_type": "code",
   "execution_count": 9,
   "metadata": {
    "ExecuteTime": {
     "end_time": "2020-02-27T09:26:17.972698Z",
     "start_time": "2020-02-27T09:26:16.800033Z"
    }
   },
   "outputs": [],
   "source": [
    "df=pd.read_excel(r\"C:\\Users\\Rahul\\Desktop\\Capstone\\OCR\\scan copy\\Labels.xlsx\",index_col=\"Sr. No.\")"
   ]
  },
  {
   "cell_type": "code",
   "execution_count": 13,
   "metadata": {
    "ExecuteTime": {
     "end_time": "2020-02-27T09:35:52.126958Z",
     "start_time": "2020-02-27T09:35:28.585205Z"
    },
    "scrolled": true
   },
   "outputs": [
    {
     "name": "stdout",
     "output_type": "stream",
     "text": [
      "39\n",
      "39\n",
      "39\n",
      "39\n",
      "39\n",
      "39\n",
      "39\n",
      "39\n",
      "39\n",
      "39\n",
      "39\n",
      "39\n",
      "39\n",
      "39\n",
      "39\n",
      "39\n",
      "39\n",
      "39\n",
      "39\n",
      "39\n",
      "Skipped image is  2\n",
      "42\n",
      "42\n",
      "42\n",
      "42\n",
      "42\n",
      "42\n",
      "42\n",
      "42\n",
      "42\n",
      "42\n",
      "42\n",
      "42\n",
      "42\n",
      "42\n",
      "42\n",
      "42\n",
      "42\n",
      "42\n",
      "42\n",
      "42\n",
      "Skipped image is  3\n",
      "607\n",
      "607\n",
      "607\n",
      "607\n",
      "607\n",
      "607\n",
      "607\n",
      "607\n",
      "607\n",
      "607\n",
      "607\n",
      "607\n",
      "607\n",
      "607\n",
      "607\n",
      "607\n",
      "607\n",
      "607\n",
      "607\n",
      "607\n",
      "Skipped image is  4\n",
      "612\n",
      "612\n"
     ]
    },
    {
     "ename": "KeyboardInterrupt",
     "evalue": "",
     "output_type": "error",
     "traceback": [
      "\u001b[1;31m---------------------------------------------------------------------------\u001b[0m",
      "\u001b[1;31mKeyboardInterrupt\u001b[0m                         Traceback (most recent call last)",
      "\u001b[1;32m<ipython-input-13-7e05360cbc36>\u001b[0m in \u001b[0;36m<module>\u001b[1;34m\u001b[0m\n\u001b[0;32m     20\u001b[0m         \u001b[1;32mif\u001b[0m \u001b[1;33m(\u001b[0m\u001b[0mm\u001b[0m\u001b[1;33m<\u001b[0m\u001b[1;36m10\u001b[0m \u001b[1;32mand\u001b[0m \u001b[0mg\u001b[0m\u001b[1;33m==\u001b[0m\u001b[1;36m0\u001b[0m\u001b[1;33m)\u001b[0m\u001b[1;33m:\u001b[0m\u001b[1;33m\u001b[0m\u001b[1;33m\u001b[0m\u001b[0m\n\u001b[0;32m     21\u001b[0m             \u001b[0mm\u001b[0m\u001b[1;33m+=\u001b[0m\u001b[1;36m1\u001b[0m\u001b[1;33m\u001b[0m\u001b[1;33m\u001b[0m\u001b[0m\n\u001b[1;32m---> 22\u001b[1;33m             \u001b[0mimgray\u001b[0m\u001b[1;33m,\u001b[0m\u001b[0mb\u001b[0m\u001b[1;33m=\u001b[0m\u001b[0mget_data\u001b[0m\u001b[1;33m(\u001b[0m\u001b[0mread_path\u001b[0m\u001b[1;33m+\u001b[0m\u001b[0mstr\u001b[0m\u001b[1;33m(\u001b[0m\u001b[0mi\u001b[0m\u001b[1;33m)\u001b[0m\u001b[1;33m+\u001b[0m\u001b[1;34m\".jpg\"\u001b[0m\u001b[1;33m,\u001b[0m\u001b[0mfilter_count\u001b[0m\u001b[1;33m=\u001b[0m\u001b[0mm\u001b[0m\u001b[1;33m,\u001b[0m\u001b[0mfilter_type\u001b[0m\u001b[1;33m=\u001b[0m\u001b[1;34m'm'\u001b[0m\u001b[1;33m)\u001b[0m\u001b[1;33m\u001b[0m\u001b[1;33m\u001b[0m\u001b[0m\n\u001b[0m\u001b[0;32m     23\u001b[0m             \u001b[1;31m#print(m)\u001b[0m\u001b[1;33m\u001b[0m\u001b[1;33m\u001b[0m\u001b[1;33m\u001b[0m\u001b[0m\n\u001b[0;32m     24\u001b[0m         \u001b[1;32melif\u001b[0m \u001b[1;33m(\u001b[0m\u001b[0mm\u001b[0m\u001b[1;33m==\u001b[0m\u001b[1;36m10\u001b[0m \u001b[1;32mand\u001b[0m \u001b[0mg\u001b[0m\u001b[1;33m<\u001b[0m\u001b[1;36m10\u001b[0m\u001b[1;33m)\u001b[0m\u001b[1;33m:\u001b[0m\u001b[1;33m\u001b[0m\u001b[1;33m\u001b[0m\u001b[0m\n",
      "\u001b[1;32m<ipython-input-12-aefcbe59c51e>\u001b[0m in \u001b[0;36mget_data\u001b[1;34m(read_path, filter_count, filter_type)\u001b[0m\n\u001b[0;32m     57\u001b[0m             \u001b[0mw\u001b[0m\u001b[1;33m=\u001b[0m\u001b[0mi\u001b[0m\u001b[1;33m[\u001b[0m\u001b[1;36m2\u001b[0m\u001b[1;33m]\u001b[0m\u001b[1;33m\u001b[0m\u001b[1;33m\u001b[0m\u001b[0m\n\u001b[0;32m     58\u001b[0m             \u001b[0mh\u001b[0m\u001b[1;33m=\u001b[0m\u001b[0mi\u001b[0m\u001b[1;33m[\u001b[0m\u001b[1;36m3\u001b[0m\u001b[1;33m]\u001b[0m\u001b[1;33m\u001b[0m\u001b[1;33m\u001b[0m\u001b[0m\n\u001b[1;32m---> 59\u001b[1;33m             \u001b[1;32mif\u001b[0m \u001b[1;33m(\u001b[0m\u001b[1;33m(\u001b[0m\u001b[0my\u001b[0m \u001b[1;33m>\u001b[0m \u001b[0mbottom_y\u001b[0m\u001b[1;33m-\u001b[0m\u001b[0mh_mode\u001b[0m\u001b[1;33m*\u001b[0m\u001b[0mj\u001b[0m\u001b[1;33m-\u001b[0m\u001b[0mh_mode\u001b[0m\u001b[1;33m/\u001b[0m\u001b[1;36m2\u001b[0m\u001b[1;33m)\u001b[0m \u001b[1;32mand\u001b[0m \u001b[1;33m(\u001b[0m\u001b[0mi\u001b[0m \u001b[1;32mnot\u001b[0m \u001b[1;32min\u001b[0m \u001b[0mtemp\u001b[0m\u001b[1;33m)\u001b[0m\u001b[1;33m)\u001b[0m\u001b[1;33m:\u001b[0m\u001b[1;33m\u001b[0m\u001b[1;33m\u001b[0m\u001b[0m\n\u001b[0m\u001b[0;32m     60\u001b[0m                 \u001b[0mb\u001b[0m\u001b[1;33m[\u001b[0m\u001b[0mj\u001b[0m\u001b[1;33m]\u001b[0m\u001b[1;33m.\u001b[0m\u001b[0mappend\u001b[0m\u001b[1;33m(\u001b[0m\u001b[0mi\u001b[0m\u001b[1;33m)\u001b[0m\u001b[1;33m\u001b[0m\u001b[1;33m\u001b[0m\u001b[0m\n\u001b[0;32m     61\u001b[0m                 \u001b[0mtemp\u001b[0m\u001b[1;33m.\u001b[0m\u001b[0mappend\u001b[0m\u001b[1;33m(\u001b[0m\u001b[0mi\u001b[0m\u001b[1;33m)\u001b[0m\u001b[1;33m\u001b[0m\u001b[1;33m\u001b[0m\u001b[0m\n",
      "\u001b[1;31mKeyboardInterrupt\u001b[0m: "
     ]
    }
   ],
   "source": [
    "read_path=r\"C:\\Users\\Rahul\\Desktop\\Capstone\\OCR\\scan copy\\scan_19_1\"+\"\\\\\"\n",
    "class_path=r'C:\\Users\\Rahul\\Desktop\\Capstone\\OCR\\data\\results11'+'\\\\'\n",
    "imgsave=1\n",
    "for folder in range(1,621):\n",
    "    class_folder=class_path+str(df.loc[folder,\"Labels2\"])\n",
    "    if not os.path.exists(class_folder):\n",
    "        os.makedirs(class_folder) \n",
    "m=g=0\n",
    "c=[]\n",
    "\n",
    "for i in range(2,30):\n",
    "    if (i==18 or i==21):\n",
    "        continue\n",
    "    if (m==10 and g==10 and len(c)!=620):\n",
    "        print(\"Skipped image is \", (i-1))\n",
    "    m=g=0\n",
    "    c=[]\n",
    "    while((len(c)!=620) and (m!=10 or g!=10)):\n",
    "        c=[]\n",
    "        if (m<10 and g==0):\n",
    "            m+=1\n",
    "            imgray,b=get_data(read_path+str(i)+\".jpg\",filter_count=m,filter_type='m')\n",
    "            #print(m)\n",
    "        elif (m==10 and g<10):\n",
    "            g+=1\n",
    "            imgray,b=get_data(read_path+str(i)+\".jpg\",filter_count=g,filter_type='g')\n",
    "            #print(g)  \n",
    "        for row in b:\n",
    "            for box in row:\n",
    "                try:\n",
    "                    w=box[2]\n",
    "                    h=box[3]\n",
    "                    #print(w)\n",
    "                    if ((w>60 and w<80) and (h>60 and h <80)):\n",
    "                        c.append(box)\n",
    "                        #print(c)\n",
    "                except:\n",
    "                    continue\n",
    "                    \n",
    "        print(len(c))\n",
    "        if (len(c)==620):\n",
    "            print(\"here\")\n",
    "            count=1\n",
    "            for box in c:\n",
    "                x=box[0]\n",
    "                y=box[1]\n",
    "                w=box[2]\n",
    "                h=box[3]\n",
    "                class_folder=class_path+str(df.loc[count,\"Labels2\"])\n",
    "                cv2.imwrite(class_folder+'\\\\'+str(i)+\" img \"+str(imgsave)+\".jpg\",imgray[y:y+h,x:x+w])\n",
    "                imgsave+=1\n",
    "                time.sleep(0.005)\n",
    "                count+=1"
   ]
  },
  {
   "cell_type": "code",
   "execution_count": null,
   "metadata": {},
   "outputs": [],
   "source": []
  }
 ],
 "metadata": {
  "kernelspec": {
   "display_name": "Python 3",
   "language": "python",
   "name": "python3"
  },
  "language_info": {
   "codemirror_mode": {
    "name": "ipython",
    "version": 3
   },
   "file_extension": ".py",
   "mimetype": "text/x-python",
   "name": "python",
   "nbconvert_exporter": "python",
   "pygments_lexer": "ipython3",
   "version": "3.7.4"
  },
  "varInspector": {
   "cols": {
    "lenName": 16,
    "lenType": 16,
    "lenVar": 40
   },
   "kernels_config": {
    "python": {
     "delete_cmd_postfix": "",
     "delete_cmd_prefix": "del ",
     "library": "var_list.py",
     "varRefreshCmd": "print(var_dic_list())"
    },
    "r": {
     "delete_cmd_postfix": ") ",
     "delete_cmd_prefix": "rm(",
     "library": "var_list.r",
     "varRefreshCmd": "cat(var_dic_list()) "
    }
   },
   "types_to_exclude": [
    "module",
    "function",
    "builtin_function_or_method",
    "instance",
    "_Feature"
   ],
   "window_display": false
  }
 },
 "nbformat": 4,
 "nbformat_minor": 2
}
